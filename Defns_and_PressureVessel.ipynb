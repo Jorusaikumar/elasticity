{
 "cells": [
  {
   "cell_type": "markdown",
   "metadata": {},
   "source": [
    "# Biharmonic equation and stresses in polar coordinates\n",
    "\n",
    "## Background\n",
    "\n",
    "We had already derived the biharmonic equation in rectangular Cartesian coordinate system. So we know:\n",
    "\n",
    "\\begin{gather}\n",
    "\\nabla^4 \\phi = 0, \\\\\n",
    "\\text{or,} \\quad \\left( \\frac{\\partial^4}{\\partial x^4} + 2 \\frac{\\partial^4}{\\partial x^2 \\partial y^2} + \\frac{\\partial^4}{\\partial y^4} \\right) \\phi = 0\n",
    "\\end{gather}\n",
    "\n",
    "Now, we wish to obtain the version in the polar coordinate system, i.e. the $r, \\theta$ coordinate system. The whole derivation is, in essence, a transformation from the rectangular Cartesian coordinate system to the polar coordinate system. We follow the steps outlined in the classic \"Theory of Elasticity\" 3rd edition, by Timoshenko and Goodier. \n",
    "\n",
    "We begin by noting that $x = r \\cos\\theta$ and $y = r\\sin \\theta$. Then, we obtain\n",
    "\n",
    "\\begin{align}\n",
    "\\frac{\\partial r}{\\partial x} &= \\cos \\theta \\\\\n",
    "\\frac{\\partial r}{\\partial y} &= \\sin \\theta \\\\\n",
    "\\frac{\\partial \\theta}{\\partial x} & = - \\frac{\\sin \\theta}{r} \\\\\n",
    "\\frac{\\partial \\theta}{\\partial y} & = \\frac{\\cos \\theta}{r} \\\\\n",
    "\\end{align}\n",
    "\n",
    "For a generic function $f(r,\\theta)$, we have\n",
    "\n",
    "\n",
    "\\begin{align}\n",
    "\\frac{\\partial f}{\\partial x} &= \\frac{\\partial f}{\\partial r}\\frac{\\partial r}{\\partial x} + \\frac{\\partial f}{\\partial \\theta}\\frac{\\partial \\theta}{\\partial x} \\\\\n",
    "\\frac{\\partial f}{\\partial y} &= \\frac{\\partial f}{\\partial r}\\frac{\\partial r}{\\partial y} + \\frac{\\partial f}{\\partial \\theta}\\frac{\\partial \\theta}{\\partial y} \n",
    "\\end{align}\n",
    "\n",
    "Up to this point, we could easily proceed \"by hand\". However, our final aim is to obtain the polar coordinate versions of $\\displaystyle \\frac{\\partial^4 f}{\\partial x^4}$, $\\displaystyle \\frac{\\partial^4 f}{\\partial x^2\\partial y^2}$, and $\\displaystyle \\frac{\\partial^4 f}{\\partial y^4}$. Doing {\\em these} by hand involves a lot of time and effort. \n",
    "\n",
    "However, we can take advantage of the power of SymPy to automate these derivations. "
   ]
  },
  {
   "cell_type": "markdown",
   "metadata": {},
   "source": [
    "## Definitions in SymPy\n",
    "We begin by invoking SymPy and defining the symbols $r$ and $\\theta$."
   ]
  },
  {
   "cell_type": "code",
   "execution_count": 1,
   "metadata": {},
   "outputs": [],
   "source": [
    "import sympy as sp\n",
    "\n",
    "r, theta = sp.symbols('r, theta')"
   ]
  },
  {
   "cell_type": "markdown",
   "metadata": {},
   "source": [
    "We define a generic function $f(r,\\theta)$ as:"
   ]
  },
  {
   "cell_type": "code",
   "execution_count": 2,
   "metadata": {},
   "outputs": [],
   "source": [
    "f = sp.Function('f')(r,theta)"
   ]
  },
  {
   "cell_type": "markdown",
   "metadata": {},
   "source": [
    "We then write the definitions as in Eqs (3)-(6):"
   ]
  },
  {
   "cell_type": "code",
   "execution_count": 3,
   "metadata": {},
   "outputs": [],
   "source": [
    "def delr_delx():\n",
    "    return sp.cos(theta)\n",
    "    \n",
    "def delr_dely():\n",
    "    return sp.sin(theta)\n",
    "\n",
    "def deltheta_delx():\n",
    "    return -sp.sin(theta)/r\n",
    "\n",
    "def deltheta_dely():\n",
    "    return sp.cos(theta)/r"
   ]
  },
  {
   "cell_type": "markdown",
   "metadata": {},
   "source": [
    "And, then we write the definitions as in Eqs (7) and (8):"
   ]
  },
  {
   "cell_type": "code",
   "execution_count": 4,
   "metadata": {},
   "outputs": [],
   "source": [
    "def del_delx(f):\n",
    "    return delr_delx()*sp.diff(f,r,1) + deltheta_delx()*sp.diff(f,theta,1)\n",
    "\n",
    "def del_dely(f):\n",
    "    return delr_dely()*sp.diff(f,r,1) + deltheta_dely()*sp.diff(f,theta,1)"
   ]
  },
  {
   "cell_type": "markdown",
   "metadata": {},
   "source": [
    "Up to this point, we have merely translated the equations which we had obtained by hand into the language of SymPy. However, we are now at the point where we need to find the second order derivatives. These we shall obtain not by hand, but by using the power of SymPy by making the definitions of the first order derivatives operate on themselves. Thus:"
   ]
  },
  {
   "cell_type": "code",
   "execution_count": 5,
   "metadata": {},
   "outputs": [],
   "source": [
    "def del2_delx2(f):\n",
    "    return del_delx(del_delx(f))\n",
    "\n",
    "def del2_dely2(f):\n",
    "    return del_dely(del_dely(f))"
   ]
  },
  {
   "cell_type": "markdown",
   "metadata": {},
   "source": [
    "### Definition of the polar biharmonic\n",
    "\n",
    "We finally wish to go to the biharmonic equation. But for that we need not explicitly find the third order derivatives and then the fourth order derivatives. Instead, we can define the polar version of the Laplacian operator $\\displaystyle \\frac{\\partial^2 f}{\\partial x^2} + \\frac{\\partial^2 f}{\\partial y^2}$ as follows:"
   ]
  },
  {
   "cell_type": "code",
   "execution_count": 6,
   "metadata": {},
   "outputs": [],
   "source": [
    "def polarLaplacian(f):\n",
    "    return (del2_delx2(f)+del2_dely2(f))"
   ]
  },
  {
   "cell_type": "markdown",
   "metadata": {},
   "source": [
    "That's the definition. But, let's check what the polar Laplacian looks:"
   ]
  },
  {
   "cell_type": "code",
   "execution_count": 7,
   "metadata": {},
   "outputs": [
    {
     "data": {
      "text/latex": [
       "$\\displaystyle \\left(\\sin{\\left(\\theta \\right)} \\frac{\\partial^{2}}{\\partial r^{2}} f{\\left(r,\\theta \\right)} + \\frac{\\cos{\\left(\\theta \\right)} \\frac{\\partial^{2}}{\\partial \\theta\\partial r} f{\\left(r,\\theta \\right)}}{r} - \\frac{\\cos{\\left(\\theta \\right)} \\frac{\\partial}{\\partial \\theta} f{\\left(r,\\theta \\right)}}{r^{2}}\\right) \\sin{\\left(\\theta \\right)} + \\left(\\cos{\\left(\\theta \\right)} \\frac{\\partial^{2}}{\\partial r^{2}} f{\\left(r,\\theta \\right)} - \\frac{\\sin{\\left(\\theta \\right)} \\frac{\\partial^{2}}{\\partial \\theta\\partial r} f{\\left(r,\\theta \\right)}}{r} + \\frac{\\sin{\\left(\\theta \\right)} \\frac{\\partial}{\\partial \\theta} f{\\left(r,\\theta \\right)}}{r^{2}}\\right) \\cos{\\left(\\theta \\right)} - \\frac{\\left(- \\sin{\\left(\\theta \\right)} \\frac{\\partial}{\\partial r} f{\\left(r,\\theta \\right)} + \\cos{\\left(\\theta \\right)} \\frac{\\partial^{2}}{\\partial \\theta\\partial r} f{\\left(r,\\theta \\right)} - \\frac{\\sin{\\left(\\theta \\right)} \\frac{\\partial^{2}}{\\partial \\theta^{2}} f{\\left(r,\\theta \\right)}}{r} - \\frac{\\cos{\\left(\\theta \\right)} \\frac{\\partial}{\\partial \\theta} f{\\left(r,\\theta \\right)}}{r}\\right) \\sin{\\left(\\theta \\right)}}{r} + \\frac{\\left(\\sin{\\left(\\theta \\right)} \\frac{\\partial^{2}}{\\partial \\theta\\partial r} f{\\left(r,\\theta \\right)} + \\cos{\\left(\\theta \\right)} \\frac{\\partial}{\\partial r} f{\\left(r,\\theta \\right)} - \\frac{\\sin{\\left(\\theta \\right)} \\frac{\\partial}{\\partial \\theta} f{\\left(r,\\theta \\right)}}{r} + \\frac{\\cos{\\left(\\theta \\right)} \\frac{\\partial^{2}}{\\partial \\theta^{2}} f{\\left(r,\\theta \\right)}}{r}\\right) \\cos{\\left(\\theta \\right)}}{r}$"
      ],
      "text/plain": [
       "(sin(theta)*Derivative(f(r, theta), (r, 2)) + cos(theta)*Derivative(f(r, theta), r, theta)/r - cos(theta)*Derivative(f(r, theta), theta)/r**2)*sin(theta) + (cos(theta)*Derivative(f(r, theta), (r, 2)) - sin(theta)*Derivative(f(r, theta), r, theta)/r + sin(theta)*Derivative(f(r, theta), theta)/r**2)*cos(theta) - (-sin(theta)*Derivative(f(r, theta), r) + cos(theta)*Derivative(f(r, theta), r, theta) - sin(theta)*Derivative(f(r, theta), (theta, 2))/r - cos(theta)*Derivative(f(r, theta), theta)/r)*sin(theta)/r + (sin(theta)*Derivative(f(r, theta), r, theta) + cos(theta)*Derivative(f(r, theta), r) - sin(theta)*Derivative(f(r, theta), theta)/r + cos(theta)*Derivative(f(r, theta), (theta, 2))/r)*cos(theta)/r"
      ]
     },
     "execution_count": 7,
     "metadata": {},
     "output_type": "execute_result"
    }
   ],
   "source": [
    "polarLaplacian(f)"
   ]
  },
  {
   "cell_type": "markdown",
   "metadata": {},
   "source": [
    "So that looks a bit daunting. What happens if we redefine the polar Laplacian invoking the symbolic simplifications that SymPy allows:"
   ]
  },
  {
   "cell_type": "code",
   "execution_count": 8,
   "metadata": {},
   "outputs": [],
   "source": [
    "def polarLaplacian(f):\n",
    "    return (del2_delx2(f)+del2_dely2(f)).simplify()"
   ]
  },
  {
   "cell_type": "code",
   "execution_count": 9,
   "metadata": {},
   "outputs": [
    {
     "data": {
      "text/latex": [
       "$\\displaystyle \\frac{\\partial^{2}}{\\partial r^{2}} f{\\left(r,\\theta \\right)} + \\frac{\\frac{\\partial}{\\partial r} f{\\left(r,\\theta \\right)}}{r} + \\frac{\\frac{\\partial^{2}}{\\partial \\theta^{2}} f{\\left(r,\\theta \\right)}}{r^{2}}$"
      ],
      "text/plain": [
       "Derivative(f(r, theta), (r, 2)) + Derivative(f(r, theta), r)/r + Derivative(f(r, theta), (theta, 2))/r**2"
      ]
     },
     "execution_count": 9,
     "metadata": {},
     "output_type": "execute_result"
    }
   ],
   "source": [
    "polarLaplacian(f)"
   ]
  },
  {
   "cell_type": "markdown",
   "metadata": {},
   "source": [
    "That's much better! We can now immediately go to the polar version of the biharmonic operator by making the Laplacian operator operate on itself. Thus:"
   ]
  },
  {
   "cell_type": "code",
   "execution_count": 10,
   "metadata": {},
   "outputs": [],
   "source": [
    "def polarbiharmonic(f):\n",
    "    return polarLaplacian(polarLaplacian(f))"
   ]
  },
  {
   "cell_type": "markdown",
   "metadata": {},
   "source": [
    "Let's check what the polar biharmonic looks like:"
   ]
  },
  {
   "cell_type": "code",
   "execution_count": 11,
   "metadata": {},
   "outputs": [
    {
     "data": {
      "text/latex": [
       "$\\displaystyle \\frac{r^{4} \\frac{\\partial^{4}}{\\partial r^{4}} f{\\left(r,\\theta \\right)} + 2 r^{3} \\frac{\\partial^{3}}{\\partial r^{3}} f{\\left(r,\\theta \\right)} - r^{2} \\frac{\\partial^{2}}{\\partial r^{2}} f{\\left(r,\\theta \\right)} + 2 r^{2} \\frac{\\partial^{4}}{\\partial \\theta^{2}\\partial r^{2}} f{\\left(r,\\theta \\right)} + r \\frac{\\partial}{\\partial r} f{\\left(r,\\theta \\right)} - 2 r \\frac{\\partial^{3}}{\\partial \\theta^{2}\\partial r} f{\\left(r,\\theta \\right)} + 4 \\frac{\\partial^{2}}{\\partial \\theta^{2}} f{\\left(r,\\theta \\right)} + \\frac{\\partial^{4}}{\\partial \\theta^{4}} f{\\left(r,\\theta \\right)}}{r^{4}}$"
      ],
      "text/plain": [
       "(r**4*Derivative(f(r, theta), (r, 4)) + 2*r**3*Derivative(f(r, theta), (r, 3)) - r**2*Derivative(f(r, theta), (r, 2)) + 2*r**2*Derivative(f(r, theta), (r, 2), (theta, 2)) + r*Derivative(f(r, theta), r) - 2*r*Derivative(f(r, theta), r, (theta, 2)) + 4*Derivative(f(r, theta), (theta, 2)) + Derivative(f(r, theta), (theta, 4)))/r**4"
      ]
     },
     "execution_count": 11,
     "metadata": {},
     "output_type": "execute_result"
    }
   ],
   "source": [
    "polarbiharmonic(f)"
   ]
  },
  {
   "cell_type": "markdown",
   "metadata": {},
   "source": [
    "Now, imagine obtaining this by hand!\n",
    "\n",
    "However, our work is far from over. To address a full-scale problem from 2D elasticity, we have to solve the polar biharmonic equation subject to certain boundary conditions. These boundary conditions are often expressed in terms of the stress fields. So, we need to find the relations between the stresses and the Airy stress function. "
   ]
  },
  {
   "cell_type": "markdown",
   "metadata": {},
   "source": [
    "### Definition of the stresses in polar coordinates\n",
    "\n",
    "To find the relations between the stresses and the Airy stress function in the polar coordinate system, we proceed again by transforming from the rectangular Cartesian coordinate system. This transformation involves two steps. \n",
    "\n",
    "**First step:** Obtain the expressions of $\\displaystyle \\sigma_{xx} = \\frac{\\partial^2 \\phi}{\\partial y^2}$, $\\displaystyle \\sigma_{yy} = \\frac{\\partial^2 \\phi}{\\partial x^2}$, and $\\displaystyle \\sigma_{xy} = -\\frac{\\partial^2 \\phi}{\\partial x \\partial y}$ in terms of the corresponding derivatives of the Airy stress function in polar coordinates.\n",
    "\n",
    "**Second step:** Transform the stress matrix $\\displaystyle \\bar{\\bar{\\sigma}}_{\\rm rect} = \\begin{bmatrix} \\sigma_{xx} & \\sigma_{xy} \\\\ \\sigma_{xy} & \\sigma_{yy}\\end{bmatrix}$ to $\\displaystyle \\bar{\\bar\\sigma}_{\\rm pol} = \\begin{bmatrix} \\sigma_{rr} & \\sigma_{r\\theta} \\\\ \\sigma_{r\\theta} & \\sigma_{\\theta\\theta}\\end{bmatrix}$ through the rotation matrix $\\bar{\\bar{Q}} = \\displaystyle \\begin{bmatrix} \\cos \\theta & -\\sin \\theta \\\\ \\sin \\theta & \\cos \\theta \\end{bmatrix}$ using the relation:\n",
    "\\begin{gather}\n",
    "\\bar{\\bar{\\sigma}}_{\\rm pol} = \\bar{\\bar{Q}} \\; \\bar{\\bar{\\sigma}}_{\\rm rect} \\; \\bar{\\bar{Q}}^{\\sf T}\n",
    "\\end{gather}\n",
    "\n",
    "On to the implementation of the **First step** now:"
   ]
  },
  {
   "cell_type": "code",
   "execution_count": 12,
   "metadata": {},
   "outputs": [],
   "source": [
    "def sigma_xx(f):\n",
    "    return del2_dely2(f)\n",
    "\n",
    "def sigma_yy(f):\n",
    "    return del2_delx2(f)\n",
    "\n",
    "def sigma_xy(f):\n",
    "    return -del_delx(del_dely(f))"
   ]
  },
  {
   "cell_type": "markdown",
   "metadata": {},
   "source": [
    "Using the above definitions, we set up $\\bar{\\bar{\\sigma}}_{\\rm rect}$:"
   ]
  },
  {
   "cell_type": "code",
   "execution_count": 13,
   "metadata": {},
   "outputs": [],
   "source": [
    "def sigma_rect(f):\n",
    "    return sp.Matrix([[sigma_xx(f), sigma_xy(f)],[sigma_xy(f), sigma_yy(f)]])"
   ]
  },
  {
   "cell_type": "markdown",
   "metadata": {},
   "source": [
    "We next write the rotation matrix, $\\bar{\\bar{Q}}$:"
   ]
  },
  {
   "cell_type": "code",
   "execution_count": 14,
   "metadata": {},
   "outputs": [],
   "source": [
    "Q = sp.Matrix([[sp.cos(theta), sp.sin(theta)],[-sp.sin(theta), sp.cos(theta)]])"
   ]
  },
  {
   "cell_type": "markdown",
   "metadata": {},
   "source": [
    "We next implement the **Second step** as:"
   ]
  },
  {
   "cell_type": "code",
   "execution_count": 15,
   "metadata": {},
   "outputs": [],
   "source": [
    "def sigma_polar(f):\n",
    "    return Q*sigma_rect(f)*(Q.T)"
   ]
  },
  {
   "cell_type": "markdown",
   "metadata": {},
   "source": [
    "And, finally extract the individual components $\\sigma_{rr}$, $\\sigma_{\\theta\\theta}$, and $\\sigma_{r\\theta}$:"
   ]
  },
  {
   "cell_type": "code",
   "execution_count": 16,
   "metadata": {},
   "outputs": [],
   "source": [
    "def sigma_rr(f):\n",
    "    return (sigma_polar(f)[0,0]).simplify().expand()\n",
    "\n",
    "def sigma_tt(f):\n",
    "    return (sigma_polar(f)[1,1]).simplify().expand()\n",
    "\n",
    "def sigma_rt(f):\n",
    "    return (sigma_polar(f)[0,1]).simplify().expand()"
   ]
  },
  {
   "cell_type": "markdown",
   "metadata": {},
   "source": [
    "Note that in the above definitions, we have additionally invoked the simplification and expansion functionality that SymPy allows to make the expressions of the stress fields less daunting. It is important to note that it is not just a matter of aesthetics to present these expressions in the simplest possible terms. It does matter for latter operations that the expressions indeed are simple and amenable for solving problems. \n",
    "\n",
    "So, on to problems now ...\n",
    "\n",
    "We will follow the development of the ideas presented in Timoshenko and Goodier. \n",
    "\n",
    "First, we will consider a $\\theta$-independent Airy stress function, i.e. $\\phi(r)$. "
   ]
  },
  {
   "cell_type": "code",
   "execution_count": 18,
   "metadata": {},
   "outputs": [
    {
     "data": {
      "text/latex": [
       "$\\displaystyle \\phi{\\left(r \\right)}$"
      ],
      "text/plain": [
       "phi(r)"
      ]
     },
     "metadata": {},
     "output_type": "display_data"
    }
   ],
   "source": [
    "phi = sp.Function('phi')(r)\n",
    "display(phi)"
   ]
  },
  {
   "cell_type": "markdown",
   "metadata": {},
   "source": [
    "Let's quickly check what the polar biharmonic of $\\phi(r)$ looks like now that we dropped the $\\theta$ dependence:"
   ]
  },
  {
   "cell_type": "code",
   "execution_count": 20,
   "metadata": {},
   "outputs": [
    {
     "data": {
      "text/latex": [
       "$\\displaystyle \\frac{d^{4}}{d r^{4}} \\phi{\\left(r \\right)} + \\frac{2 \\frac{d^{3}}{d r^{3}} \\phi{\\left(r \\right)}}{r} - \\frac{\\frac{d^{2}}{d r^{2}} \\phi{\\left(r \\right)}}{r^{2}} + \\frac{\\frac{d}{d r} \\phi{\\left(r \\right)}}{r^{3}}$"
      ],
      "text/plain": [
       "Derivative(phi(r), (r, 4)) + 2*Derivative(phi(r), (r, 3))/r - Derivative(phi(r), (r, 2))/r**2 + Derivative(phi(r), r)/r**3"
      ]
     },
     "execution_count": 20,
     "metadata": {},
     "output_type": "execute_result"
    }
   ],
   "source": [
    "polarbiharmonic(phi)"
   ]
  },
  {
   "cell_type": "markdown",
   "metadata": {},
   "source": [
    "Now, we would like to find the solution of the biharmonic equation, $\\nabla^4 \\phi = 0$:"
   ]
  },
  {
   "cell_type": "code",
   "execution_count": 19,
   "metadata": {},
   "outputs": [
    {
     "data": {
      "text/latex": [
       "$\\displaystyle \\phi{\\left(r \\right)} = C_{1} + C_{2} r^{2} + C_{3} r^{2} \\log{\\left(r \\right)} + C_{4} \\log{\\left(r \\right)}$"
      ],
      "text/plain": [
       "Eq(phi(r), C1 + C2*r**2 + C3*r**2*log(r) + C4*log(r))"
      ]
     },
     "execution_count": 19,
     "metadata": {},
     "output_type": "execute_result"
    }
   ],
   "source": [
    "sp.dsolve(polarbiharmonic(phi))"
   ]
  },
  {
   "cell_type": "markdown",
   "metadata": {},
   "source": [
    "That's it! That simple one line gives us the solution to the fourth order equation. Anyone who has tried to solve the fourth order equation by hand can attest to the fact that how much labour this step is saving us. I had emphasized this point heavily during my lecture so that the students appreciate the power of SymPy.  \n",
    "\n",
    "Anyway, now that we have the solution, we will rewrite it in the notation used by Timoshenko and Goodier. "
   ]
  },
  {
   "cell_type": "code",
   "execution_count": 21,
   "metadata": {},
   "outputs": [
    {
     "data": {
      "text/latex": [
       "$\\displaystyle A \\log{\\left(r \\right)} + B r^{2} \\log{\\left(r \\right)} + C r^{2} + D$"
      ],
      "text/plain": [
       "A*log(r) + B*r**2*log(r) + C*r**2 + D"
      ]
     },
     "metadata": {},
     "output_type": "display_data"
    }
   ],
   "source": [
    "A, B, C, D = sp.symbols('A, B, C, D')\n",
    "phi = A*sp.log(r) + B*r**2*sp.log(r) + C*r**2 + D\n",
    "display(phi)"
   ]
  },
  {
   "cell_type": "markdown",
   "metadata": {},
   "source": [
    "To determine the corresponding stress fields, we use our earlier definitions. We just have to call them:"
   ]
  },
  {
   "cell_type": "code",
   "execution_count": 27,
   "metadata": {},
   "outputs": [
    {
     "data": {
      "text/latex": [
       "$\\displaystyle \\frac{A}{r^{2}} + 2 B \\log{\\left(r \\right)} + B + 2 C$"
      ],
      "text/plain": [
       "A/r**2 + 2*B*log(r) + B + 2*C"
      ]
     },
     "metadata": {},
     "output_type": "display_data"
    },
    {
     "data": {
      "text/latex": [
       "$\\displaystyle - \\frac{A}{r^{2}} + 2 B \\log{\\left(r \\right)} + 3 B + 2 C$"
      ],
      "text/plain": [
       "-A/r**2 + 2*B*log(r) + 3*B + 2*C"
      ]
     },
     "metadata": {},
     "output_type": "display_data"
    },
    {
     "data": {
      "text/latex": [
       "$\\displaystyle 0$"
      ],
      "text/plain": [
       "0"
      ]
     },
     "metadata": {},
     "output_type": "display_data"
    }
   ],
   "source": [
    "sigmarr = sigma_rr(phi)\n",
    "sigmatt = sigma_tt(phi)\n",
    "sigmart = sigma_rt(phi)\n",
    "display(sigmarr, sigmatt, sigmart)"
   ]
  },
  {
   "cell_type": "markdown",
   "metadata": {},
   "source": [
    "Note that in the above way of displaying the various expressions the actual variable name does not appear. We can get around this little issue as follows:"
   ]
  },
  {
   "cell_type": "code",
   "execution_count": 31,
   "metadata": {},
   "outputs": [
    {
     "data": {
      "text/latex": [
       "$\\displaystyle \\sigma_{rr} = \\frac{A}{r^{2}} + 2 B \\log{\\left(r \\right)} + B + 2 C$"
      ],
      "text/plain": [
       "<IPython.core.display.Math object>"
      ]
     },
     "metadata": {},
     "output_type": "display_data"
    },
    {
     "data": {
      "text/latex": [
       "$\\displaystyle \\sigma_{\\theta\\theta} = - \\frac{A}{r^{2}} + 2 B \\log{\\left(r \\right)} + 3 B + 2 C$"
      ],
      "text/plain": [
       "<IPython.core.display.Math object>"
      ]
     },
     "metadata": {},
     "output_type": "display_data"
    },
    {
     "data": {
      "text/latex": [
       "$\\displaystyle \\sigma_{r\\theta} = 0$"
      ],
      "text/plain": [
       "<IPython.core.display.Math object>"
      ]
     },
     "metadata": {},
     "output_type": "display_data"
    }
   ],
   "source": [
    "from IPython.display import Math, Latex\n",
    "\n",
    "display(Math(r'\\sigma_{{rr}} = {}'.format(sp.latex(sigmarr))))\n",
    "display(Math(r'\\sigma_{{\\theta\\theta}} = {}'.format(sp.latex(sigmatt))))\n",
    "display(Math(r'\\sigma_{{r\\theta}} = {}'.format(sp.latex(sigmart))))"
   ]
  },
  {
   "cell_type": "markdown",
   "metadata": {},
   "source": [
    "If we are investigating the stress field for a geometry where there is no hole at the origin then we must set $A=0$ and $B=0$. Otherwise $\\sigma_{rr}$ and $\\sigma_{\\theta\\theta}$ will become infinite. In such a case, we have the following:"
   ]
  },
  {
   "cell_type": "code",
   "execution_count": 33,
   "metadata": {},
   "outputs": [
    {
     "data": {
      "text/latex": [
       "$\\displaystyle \\sigma_{rr}^{\\rm no-hole} = 2 C$"
      ],
      "text/plain": [
       "<IPython.core.display.Math object>"
      ]
     },
     "metadata": {},
     "output_type": "display_data"
    },
    {
     "data": {
      "text/latex": [
       "$\\displaystyle \\sigma_{tt}^{\\rm no-hole} = 2 C$"
      ],
      "text/plain": [
       "<IPython.core.display.Math object>"
      ]
     },
     "metadata": {},
     "output_type": "display_data"
    }
   ],
   "source": [
    "sigmarr_nohole = sigmarr.subs([(A,0),(B,0)])\n",
    "sigmatt_nohole = sigmatt.subs([(A,0),(B,0)])\n",
    "\n",
    "display(Math(r'\\sigma_{{rr}}^{{\\rm no-hole}} = {}'.format(sp.latex(sigmarr_nohole))))\n",
    "display(Math(r'\\sigma_{{tt}}^{{\\rm no-hole}} = {}'.format(sp.latex(sigmatt_nohole))))"
   ]
  },
  {
   "cell_type": "markdown",
   "metadata": {},
   "source": [
    "The above formulae show that the radial and hoop stresses correspond to a state of uniform tension or uniform compression. \n",
    "\n",
    "Next, if there is a hole then we can have various other solutions. Suppose we take $A \\neq 0$ and $B=0$. Then, we have the following:"
   ]
  },
  {
   "cell_type": "code",
   "execution_count": 37,
   "metadata": {},
   "outputs": [
    {
     "data": {
      "text/latex": [
       "$\\displaystyle \\sigma_{rr}^{\\rm hole} = \\frac{A}{r^{2}} + 2 C$"
      ],
      "text/plain": [
       "<IPython.core.display.Math object>"
      ]
     },
     "metadata": {},
     "output_type": "display_data"
    },
    {
     "data": {
      "text/latex": [
       "$\\displaystyle \\sigma_{\\theta\\theta}^{\\rm hole} = - \\frac{A}{r^{2}} + 2 C$"
      ],
      "text/plain": [
       "<IPython.core.display.Math object>"
      ]
     },
     "metadata": {},
     "output_type": "display_data"
    }
   ],
   "source": [
    "sigmarr_hole = sigmarr.subs(B,0)\n",
    "sigmatt_hole = sigmatt.subs(B,0)\n",
    "\n",
    "\n",
    "display(Math(r'\\sigma_{{rr}}^{{\\rm hole}} = {}'.format(sp.latex(sigmarr_hole))))\n",
    "display(Math(r'\\sigma_{{\\theta\\theta}}^{{\\rm hole}} = {}'.format(sp.latex(sigmatt_hole))))"
   ]
  },
  {
   "cell_type": "markdown",
   "metadata": {},
   "source": [
    "Students who have done an undergraduate course on Strength of Materials/Mechanics of Materials/Mechanics of Solids can identify that this form of the stress fields emerges in the problem of a thick-walled pressure vessel. \n",
    "\n",
    "So we will now focus on the thick-walled pressure vessel problem. "
   ]
  },
  {
   "cell_type": "markdown",
   "metadata": {},
   "source": [
    "## Solution to the thick-walled pressure vessel problem\n",
    "\n",
    "Let the inner radius be $a$ and the outer radius be $b$. Then the boundary conditions are:\n",
    "\n",
    "\\begin{align}\n",
    "\\sigma_{rr} &= -p_{\\rm in} \\quad \\text{at $r=a$} \\\\\n",
    "\\sigma_{rr} &= -p_{\\rm out} \\quad \\text{at $r=b$}\n",
    "\\end{align}\n",
    "where $p_{\\rm in}$ and $p_{out}$ are the pressures inside and outside the pressure vessel, respectively. We will need to solve for the two unknown constants $A$ and $C$ using these two boundary conditions. We can again implement this solution in SymPy. \n",
    "\n",
    "First, we set up the two equations from the boundary conditions as follows:"
   ]
  },
  {
   "cell_type": "code",
   "execution_count": 51,
   "metadata": {},
   "outputs": [
    {
     "data": {
      "text/latex": [
       "$\\displaystyle \\frac{A}{a^{2}} + 2 C = - p_{in}$"
      ],
      "text/plain": [
       "Eq(A/a**2 + 2*C, -p_in)"
      ]
     },
     "metadata": {},
     "output_type": "display_data"
    },
    {
     "data": {
      "text/latex": [
       "$\\displaystyle \\frac{A}{b^{2}} + 2 C = - p_{out}$"
      ],
      "text/plain": [
       "Eq(A/b**2 + 2*C, -p_out)"
      ]
     },
     "metadata": {},
     "output_type": "display_data"
    }
   ],
   "source": [
    "a,b=sp.symbols('a,b')\n",
    "pin, pout = sp.symbols('p_in, p_out')\n",
    "\n",
    "lhs = sigmarr_hole.subs(r,a)\n",
    "rhs = -pin\n",
    "eq1 = sp.Eq(lhs,rhs)\n",
    "display(eq1)\n",
    "\n",
    "lhs = sigmarr_hole.subs(r,b)\n",
    "rhs = -pout\n",
    "eq2 = sp.Eq(lhs,rhs)\n",
    "display(eq2)"
   ]
  },
  {
   "cell_type": "markdown",
   "metadata": {},
   "source": [
    "Next, we solve the above two equations to obtain the values of $A$ and $C$ as follows:"
   ]
  },
  {
   "cell_type": "code",
   "execution_count": 52,
   "metadata": {},
   "outputs": [
    {
     "data": {
      "text/latex": [
       "$\\displaystyle A = \\frac{a^{2} b^{2} \\left(p_{in} - p_{out}\\right)}{a^{2} - b^{2}}$"
      ],
      "text/plain": [
       "<IPython.core.display.Math object>"
      ]
     },
     "metadata": {},
     "output_type": "display_data"
    },
    {
     "data": {
      "text/latex": [
       "$\\displaystyle C = \\frac{- a^{2} p_{in} + b^{2} p_{out}}{2 \\left(a^{2} - b^{2}\\right)}$"
      ],
      "text/plain": [
       "<IPython.core.display.Math object>"
      ]
     },
     "metadata": {},
     "output_type": "display_data"
    }
   ],
   "source": [
    "soln, = sp.linsolve([eq1,eq2],(A,C))\n",
    "\n",
    "Avalue = soln[0]\n",
    "Cvalue = soln[1]\n",
    "\n",
    "display(Math(r'A = {}'.format(sp.latex(Avalue))))\n",
    "display(Math(r'C = {}'.format(sp.latex(Cvalue))))"
   ]
  },
  {
   "cell_type": "markdown",
   "metadata": {},
   "source": [
    "To obtain the solutions to the stress field, we just have to make the appropriate substitutions:"
   ]
  },
  {
   "cell_type": "code",
   "execution_count": 53,
   "metadata": {},
   "outputs": [
    {
     "data": {
      "text/latex": [
       "$\\displaystyle \\sigma_{rr}^{\\rm hole} = \\frac{a^{2} b^{2} \\left(p_{in} - p_{out}\\right)}{r^{2} \\left(a^{2} - b^{2}\\right)} + \\frac{- a^{2} p_{in} + b^{2} p_{out}}{a^{2} - b^{2}}$"
      ],
      "text/plain": [
       "<IPython.core.display.Math object>"
      ]
     },
     "metadata": {},
     "output_type": "display_data"
    },
    {
     "data": {
      "text/latex": [
       "$\\displaystyle \\sigma_{\\theta\\theta}^{\\rm hole} = - \\frac{a^{2} b^{2} \\left(p_{in} - p_{out}\\right)}{r^{2} \\left(a^{2} - b^{2}\\right)} + \\frac{- a^{2} p_{in} + b^{2} p_{out}}{a^{2} - b^{2}}$"
      ],
      "text/plain": [
       "<IPython.core.display.Math object>"
      ]
     },
     "metadata": {},
     "output_type": "display_data"
    }
   ],
   "source": [
    "sigmarr_hole_soln = sigmarr_hole.subs([(A,Avalue),(C,Cvalue)])\n",
    "sigmatt_hole_soln = sigmatt_hole.subs([(A,Avalue),(C,Cvalue)])\n",
    "display(Math(r'\\sigma_{{rr}}^{{\\rm hole}} = {}'.format(sp.latex(sigmarr_hole_soln))))\n",
    "display(Math(r'\\sigma_{{\\theta\\theta}}^{{\\rm hole}} = {}'.format(sp.latex(sigmatt_hole_soln))))"
   ]
  },
  {
   "cell_type": "markdown",
   "metadata": {},
   "source": [
    "These solutions match with those given in Timoshenko and Goodier!"
   ]
  }
 ],
 "metadata": {
  "hide_input": false,
  "kernelspec": {
   "display_name": "Python 3",
   "language": "python",
   "name": "python3"
  },
  "language_info": {
   "codemirror_mode": {
    "name": "ipython",
    "version": 3
   },
   "file_extension": ".py",
   "mimetype": "text/x-python",
   "name": "python",
   "nbconvert_exporter": "python",
   "pygments_lexer": "ipython3",
   "version": "3.7.3"
  },
  "varInspector": {
   "cols": {
    "lenName": 16,
    "lenType": 16,
    "lenVar": 40
   },
   "kernels_config": {
    "python": {
     "delete_cmd_postfix": "",
     "delete_cmd_prefix": "del ",
     "library": "var_list.py",
     "varRefreshCmd": "print(var_dic_list())"
    },
    "r": {
     "delete_cmd_postfix": ") ",
     "delete_cmd_prefix": "rm(",
     "library": "var_list.r",
     "varRefreshCmd": "cat(var_dic_list()) "
    }
   },
   "types_to_exclude": [
    "module",
    "function",
    "builtin_function_or_method",
    "instance",
    "_Feature"
   ],
   "window_display": false
  }
 },
 "nbformat": 4,
 "nbformat_minor": 2
}
