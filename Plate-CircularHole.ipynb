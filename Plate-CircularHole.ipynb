{
 "cells": [
  {
   "cell_type": "markdown",
   "metadata": {},
   "source": [
    "# Plate with a circular hole subjected to uniaxial tensile loading\n",
    "\n",
    "<img src=\"Plate-CircularHole.svg\" width=\"300\"/>\n"
   ]
  },
  {
   "cell_type": "markdown",
   "metadata": {},
   "source": [
    "In order to address this problem, first imagine that the hole does not exist. Then it is a simple problem of uniaxial tension of a plate. \n",
    "\n",
    "Referred to a rectangular Cartesian coordinate system, the stress field for that (no-hole) problem will be $\\sigma_{xx} = S$, $\\sigma_{yy} = 0$, and $\\sigma_{xy} = 0$. This stress field is easily realized by using the Airy stress function $\\displaystyle \\phi = \\frac{1}{2}Sy^2$. Here, $x$ is parallel to the direction of the applied tensile load. \n",
    "\n",
    "Converting to a polar coordinate system, we have for the Airy stress function: $\\displaystyle \\phi = \\frac{1}{2} S r^2 \\sin^2\\theta$. "
   ]
  },
  {
   "cell_type": "code",
   "execution_count": 1,
   "metadata": {},
   "outputs": [],
   "source": [
    "from polarUtilities import *\n",
    "from IPython.display import Math, Latex"
   ]
  },
  {
   "cell_type": "code",
   "execution_count": 2,
   "metadata": {},
   "outputs": [
    {
     "data": {
      "text/latex": [
       "$\\displaystyle \\phi = \\frac{S r^{2} \\sin^{2}{\\left(\\theta \\right)}}{2}$"
      ],
      "text/plain": [
       "<IPython.core.display.Math object>"
      ]
     },
     "metadata": {},
     "output_type": "display_data"
    }
   ],
   "source": [
    "S = sp.symbols('S')\n",
    "phi = sp.Rational(1,2)*S*r**2*(sp.sin(theta))**2\n",
    "display(Math(r'\\phi = {}'.format(sp.latex(phi))))"
   ]
  },
  {
   "cell_type": "code",
   "execution_count": 3,
   "metadata": {},
   "outputs": [
    {
     "data": {
      "text/latex": [
       "$\\displaystyle \\sigma_{rr} = S \\cos^{2}{\\left(\\theta \\right)}$"
      ],
      "text/plain": [
       "<IPython.core.display.Math object>"
      ]
     },
     "metadata": {},
     "output_type": "display_data"
    },
    {
     "data": {
      "text/latex": [
       "$\\displaystyle \\sigma_{\\theta\\theta} = S \\cos^{2}{\\left(\\theta \\right)}$"
      ],
      "text/plain": [
       "<IPython.core.display.Math object>"
      ]
     },
     "metadata": {},
     "output_type": "display_data"
    },
    {
     "data": {
      "text/latex": [
       "$\\displaystyle \\sigma_{r\\theta} = - \\frac{S \\sin{\\left(2 \\theta \\right)}}{2}$"
      ],
      "text/plain": [
       "<IPython.core.display.Math object>"
      ]
     },
     "metadata": {},
     "output_type": "display_data"
    }
   ],
   "source": [
    "sigmarr = sigma_rr(phi)\n",
    "sigmatt = sigma_tt(phi)\n",
    "sigmart = sigma_rt(phi)\n",
    "\n",
    "display(Math(r'\\sigma_{{rr}} = {}'.format(sp.latex(sigmarr))))\n",
    "display(Math(r'\\sigma_{{\\theta\\theta}} = {}'.format(sp.latex(sigmarr))))\n",
    "display(Math(r'\\sigma_{{r\\theta}} = {}'.format(sp.latex(sigmart))))"
   ]
  },
  {
   "cell_type": "markdown",
   "metadata": {},
   "source": [
    "We remind ourselves that the above stress field was obtained by imagining the hole to be absent. However, even if the hole is present, we would still have the above stress field at sufficiently large distances from the hole. \n",
    "\n",
    "Consider a circle of radius $b$ concentric with the hole such that $b \\gg a$. We note that at the radius $r=b$, the above stress field is applicable. \n",
    "\n",
    "Now, we are going to bring back the hole. The stress distribution around the hole can be determined by solving a circular plate problem where the boundary conditions are given by\n",
    "\\begin{alignat*}{2}\n",
    "\\sigma_{rr} &= S\\cos^2\\theta &\\quad \\text{at $r=b$}\\\\\n",
    "\\sigma_{r\\theta} &= -\\frac{1}{2}S \\sin(2\\theta) &\\quad \\text{at $r=b$} \\\\\n",
    "\\sigma_{rr} &= 0 &\\quad \\text{at $r=a$} \\\\\n",
    "\\sigma_{r\\theta} &= 0 &\\quad \\text{at $r=a$}\n",
    "\\end{alignat*}\n",
    "\n",
    "We rewrite $\\sigma_{rr} = S \\cos^2 \\theta$ as $\\displaystyle \\sigma_{rr} =\\frac{1}{2}S(1+\\cos(2\\theta))$ and view it as the contribution of the two parts $\\displaystyle \\frac{1}{2}S$ and $\\displaystyle \\frac{1}{2}S \\cos(2\\theta)$, separately. \n",
    "\n",
    "Therefore, the circular plate problem can be further divided into two problems with the following boundary conditions:\n",
    "\n",
    "### Problem 1 BCs\n",
    "\\begin{alignat*}{2}\n",
    "\\sigma_{rr} &= \\frac{1}{2}S &\\quad \\text{at $r=b$}\\\\\n",
    "\\sigma_{r\\theta} &= 0 &\\quad \\text{at $r=b$} \\\\\n",
    "\\sigma_{rr} &= 0 &\\quad \\text{at $r=a$} \\\\\n",
    "\\sigma_{r\\theta} &= 0 &\\quad \\text{at $r=a$}\n",
    "\\end{alignat*}\n",
    "\n",
    "### Problem 2 BCs\n",
    "\\begin{alignat*}{2}\n",
    "\\sigma_{rr} &= \\frac{1}{2}S \\cos (2\\theta) &\\quad \\text{at $r=b$}\\\\\n",
    "\\sigma_{r\\theta} &= -\\frac{1}{2}S \\sin(2\\theta) &\\quad \\text{at $r=b$} \\\\\n",
    "\\sigma_{rr} &= 0 &\\quad \\text{at $r=a$} \\\\\n",
    "\\sigma_{r\\theta} &= 0 &\\quad \\text{at $r=a$}\n",
    "\\end{alignat*}\n",
    "\n",
    "We will solve these two problems separately and then add the solutions. "
   ]
  },
  {
   "cell_type": "markdown",
   "metadata": {},
   "source": [
    "### Problem 1\n",
    "This problem has axisymmetric conditions and we consider the following Airy stress function:"
   ]
  },
  {
   "cell_type": "code",
   "execution_count": 26,
   "metadata": {},
   "outputs": [
    {
     "data": {
      "text/latex": [
       "$\\displaystyle \\phi_{1}{\\left(r \\right)}$"
      ],
      "text/plain": [
       "phi1(r)"
      ]
     },
     "metadata": {},
     "output_type": "display_data"
    }
   ],
   "source": [
    "phi1 = sp.Function('phi1')(r)\n",
    "display(phi1)"
   ]
  },
  {
   "cell_type": "markdown",
   "metadata": {},
   "source": [
    "This $\\phi_1$ must satisfy the biharmonic equation, and we obtain as its solution the following:"
   ]
  },
  {
   "cell_type": "code",
   "execution_count": 27,
   "metadata": {},
   "outputs": [
    {
     "data": {
      "text/latex": [
       "$\\displaystyle \\phi_{1}{\\left(r \\right)} = C_{1} + C_{2} r^{2} + C_{3} r^{2} \\log{\\left(r \\right)} + C_{4} \\log{\\left(r \\right)}$"
      ],
      "text/plain": [
       "Eq(phi1(r), C1 + C2*r**2 + C3*r**2*log(r) + C4*log(r))"
      ]
     },
     "execution_count": 27,
     "metadata": {},
     "output_type": "execute_result"
    }
   ],
   "source": [
    "sp.dsolve(polarbiharmonic(phi1))"
   ]
  },
  {
   "cell_type": "markdown",
   "metadata": {},
   "source": [
    "We rewrite $\\phi_1(r)$ in terms of the constants $A$, $B$, $C$, and $D$ as"
   ]
  },
  {
   "cell_type": "code",
   "execution_count": 28,
   "metadata": {},
   "outputs": [
    {
     "data": {
      "text/latex": [
       "$\\displaystyle A \\log{\\left(r \\right)} + B r^{2} \\log{\\left(r \\right)} + C r^{2} + D$"
      ],
      "text/plain": [
       "A*log(r) + B*r**2*log(r) + C*r**2 + D"
      ]
     },
     "execution_count": 28,
     "metadata": {},
     "output_type": "execute_result"
    }
   ],
   "source": [
    "A, B, C, D = sp.symbols('A, B, C, D')\n",
    "phi1 = A*sp.log(r)+B*r**2*sp.log(r)+C*r**2 + D\n",
    "phi1"
   ]
  },
  {
   "cell_type": "markdown",
   "metadata": {},
   "source": [
    "However, we note that as per the first problem discussed in 2D elasticity - polar coordinates, for this problem we need to have $B=0$. Then, we have the following:"
   ]
  },
  {
   "cell_type": "code",
   "execution_count": 29,
   "metadata": {},
   "outputs": [
    {
     "data": {
      "text/latex": [
       "$\\displaystyle \\frac{A}{r^{2}} + 2 C$"
      ],
      "text/plain": [
       "A/r**2 + 2*C"
      ]
     },
     "metadata": {},
     "output_type": "display_data"
    },
    {
     "data": {
      "text/latex": [
       "$\\displaystyle - \\frac{A}{r^{2}} + 2 C$"
      ],
      "text/plain": [
       "-A/r**2 + 2*C"
      ]
     },
     "metadata": {},
     "output_type": "display_data"
    },
    {
     "data": {
      "text/latex": [
       "$\\displaystyle 0$"
      ],
      "text/plain": [
       "0"
      ]
     },
     "metadata": {},
     "output_type": "display_data"
    }
   ],
   "source": [
    "sigmarr1 = sigma_rr(phi1).subs(B,0)\n",
    "sigmatt1 = sigma_tt(phi1).subs(B,0)\n",
    "sigmart1 = sigma_rt(phi1)\n",
    "display(sigmarr1, sigmatt1, sigmart1)"
   ]
  },
  {
   "cell_type": "markdown",
   "metadata": {},
   "source": [
    "We now set up the four boundary condition equations for Problem 1. "
   ]
  },
  {
   "cell_type": "code",
   "execution_count": 30,
   "metadata": {},
   "outputs": [
    {
     "data": {
      "text/latex": [
       "$\\displaystyle \\frac{A}{b^{2}} + 2 C = \\frac{S}{2}$"
      ],
      "text/plain": [
       "Eq(A/b**2 + 2*C, S/2)"
      ]
     },
     "metadata": {},
     "output_type": "display_data"
    },
    {
     "data": {
      "text/latex": [
       "$\\displaystyle \\frac{A}{a^{2}} + 2 C = 0$"
      ],
      "text/plain": [
       "Eq(A/a**2 + 2*C, 0)"
      ]
     },
     "metadata": {},
     "output_type": "display_data"
    },
    {
     "data": {
      "text/latex": [
       "$\\displaystyle \\text{True}$"
      ],
      "text/plain": [
       "True"
      ]
     },
     "metadata": {},
     "output_type": "display_data"
    },
    {
     "data": {
      "text/latex": [
       "$\\displaystyle \\text{True}$"
      ],
      "text/plain": [
       "True"
      ]
     },
     "metadata": {},
     "output_type": "display_data"
    },
    {
     "data": {
      "text/latex": [
       "$\\displaystyle \\frac{S a^{2} b^{2}}{2 \\left(a^{2} - b^{2}\\right)}$"
      ],
      "text/plain": [
       "S*a**2*b**2/(2*(a**2 - b**2))"
      ]
     },
     "metadata": {},
     "output_type": "display_data"
    },
    {
     "data": {
      "text/latex": [
       "$\\displaystyle - \\frac{S b^{2}}{4 a^{2} - 4 b^{2}}$"
      ],
      "text/plain": [
       "-S*b**2/(4*a**2 - 4*b**2)"
      ]
     },
     "metadata": {},
     "output_type": "display_data"
    }
   ],
   "source": [
    "a, b = sp.symbols('a, b')\n",
    "\n",
    "lhs = sigmarr1.subs(r,b)\n",
    "rhs = sp.Rational(1,2)*S\n",
    "eq1 = sp.Eq(lhs,rhs)\n",
    "display(eq1)\n",
    "\n",
    "lhs = sigmarr1.subs(r,a)\n",
    "rhs = 0\n",
    "eq2 = sp.Eq(lhs,rhs)\n",
    "display(eq2)\n",
    "\n",
    "lhs = sigmart1.subs(r,b)\n",
    "rhs = 0\n",
    "eq3 = sp.Eq(lhs,rhs)\n",
    "display(eq3)\n",
    "\n",
    "lhs = sigmart1.subs(r,a)\n",
    "rhs = 0\n",
    "eq4 = sp.Eq(lhs,rhs)\n",
    "display(eq4)\n",
    "\n",
    "soln, = sp.linsolve([eq1,eq2],(A,C))\n",
    "Avalue = soln[0]\n",
    "Cvalue = soln[1]\n",
    "display(Avalue,Cvalue)"
   ]
  },
  {
   "cell_type": "markdown",
   "metadata": {},
   "source": [
    "Using the expressions of $A$ and $C$, we obtain:"
   ]
  },
  {
   "cell_type": "code",
   "execution_count": 31,
   "metadata": {},
   "outputs": [
    {
     "data": {
      "text/latex": [
       "$\\displaystyle \\frac{S a^{2} b^{2}}{2 r^{2} \\left(a^{2} - b^{2}\\right)} - \\frac{2 S b^{2}}{4 a^{2} - 4 b^{2}}$"
      ],
      "text/plain": [
       "S*a**2*b**2/(2*r**2*(a**2 - b**2)) - 2*S*b**2/(4*a**2 - 4*b**2)"
      ]
     },
     "metadata": {},
     "output_type": "display_data"
    },
    {
     "data": {
      "text/latex": [
       "$\\displaystyle - \\frac{S a^{2} b^{2}}{2 r^{2} \\left(a^{2} - b^{2}\\right)} - \\frac{2 S b^{2}}{4 a^{2} - 4 b^{2}}$"
      ],
      "text/plain": [
       "-S*a**2*b**2/(2*r**2*(a**2 - b**2)) - 2*S*b**2/(4*a**2 - 4*b**2)"
      ]
     },
     "metadata": {},
     "output_type": "display_data"
    }
   ],
   "source": [
    "sigmarr1_ans = sigmarr1.subs([(A,Avalue),(C,Cvalue)])\n",
    "sigmatt1_ans = sigmatt1.subs([(A,Avalue),(C,Cvalue)])\n",
    "display(sigmarr1_ans,sigmatt1_ans)"
   ]
  },
  {
   "cell_type": "markdown",
   "metadata": {},
   "source": [
    "Finally, we take the limit of $b \\gg a$ by letting $b \\to \\infty$, to obtain the stress fields:"
   ]
  },
  {
   "cell_type": "code",
   "execution_count": 32,
   "metadata": {},
   "outputs": [
    {
     "data": {
      "text/latex": [
       "$\\displaystyle \\sigma_{rr}^{(1)} = \\frac{- S a^{2} + S r^{2}}{2 r^{2}}$"
      ],
      "text/plain": [
       "<IPython.core.display.Math object>"
      ]
     },
     "metadata": {},
     "output_type": "display_data"
    },
    {
     "data": {
      "text/latex": [
       "$\\displaystyle \\sigma_{\\theta\\theta}^{(1)} = \\frac{S a^{2} + S r^{2}}{2 r^{2}}$"
      ],
      "text/plain": [
       "<IPython.core.display.Math object>"
      ]
     },
     "metadata": {},
     "output_type": "display_data"
    }
   ],
   "source": [
    "sigmarr1_lim = sp.limit(sigmarr1_ans,b,sp.oo)\n",
    "sigmatt1_lim = sp.limit(sigmatt1_ans,b,sp.oo)\n",
    "\n",
    "display(Math(r'\\sigma_{{rr}}^{{(1)}} = {}'.format(sp.latex(sigmarr1_lim))))\n",
    "display(Math(r'\\sigma_{{\\theta\\theta}}^{{(1)}} = {}'.format(sp.latex(sigmatt1_lim))))"
   ]
  },
  {
   "cell_type": "markdown",
   "metadata": {},
   "source": [
    "### Problem 2\n",
    "This problem needs to satisfy the boundary conditions $\\displaystyle \\sigma_{rr} = \\frac{1}{2}S \\cos(2\\theta)$ and $\\displaystyle \\sigma_{r\\theta} = \\frac{1}{2} \\sin(2\\theta)$ at $r=b$, where $b \\gg a$. \n",
    "\n",
    "A stress field with $\\sigma_{rr}$ proportional to $\\cos(2\\theta)$ and $\\sigma_{r\\theta}$ proportional to $\\sin(2\\theta)$ can be realized by considering an Airy stress function of the following form:"
   ]
  },
  {
   "cell_type": "code",
   "execution_count": 17,
   "metadata": {},
   "outputs": [
    {
     "data": {
      "text/latex": [
       "$\\displaystyle \\phi_2 = g{\\left(r \\right)} \\cos{\\left(2 \\theta \\right)}$"
      ],
      "text/plain": [
       "<IPython.core.display.Math object>"
      ]
     },
     "metadata": {},
     "output_type": "display_data"
    }
   ],
   "source": [
    "g = sp.Function('g')(r)\n",
    "phi2 = g*sp.cos(2*theta)\n",
    "display(Math(r'\\phi_2 = {}'.format(sp.latex(phi2))))"
   ]
  },
  {
   "cell_type": "markdown",
   "metadata": {},
   "source": [
    "This $\\phi_2$ must again satisfy the biharmonic equation. Solving the biharmonic equation, we obtain as the solution form for $g(r)$ as follows:"
   ]
  },
  {
   "cell_type": "code",
   "execution_count": 18,
   "metadata": {},
   "outputs": [
    {
     "data": {
      "text/latex": [
       "$\\displaystyle g{\\left(r \\right)} = C_{1} + \\frac{C_{2}}{r^{2}} + C_{3} r^{2} + C_{4} r^{4}$"
      ],
      "text/plain": [
       "Eq(g(r), C1 + C2/r**2 + C3*r**2 + C4*r**4)"
      ]
     },
     "execution_count": 18,
     "metadata": {},
     "output_type": "execute_result"
    }
   ],
   "source": [
    "sp.dsolve(polarbiharmonic(phi2))"
   ]
  },
  {
   "cell_type": "code",
   "execution_count": 33,
   "metadata": {},
   "outputs": [
    {
     "data": {
      "text/latex": [
       "$\\displaystyle \\left(A r^{2} + B r^{4} + \\frac{C}{r^{2}} + D\\right) \\cos{\\left(2 \\theta \\right)}$"
      ],
      "text/plain": [
       "(A*r**2 + B*r**4 + C/r**2 + D)*cos(2*theta)"
      ]
     },
     "execution_count": 33,
     "metadata": {},
     "output_type": "execute_result"
    }
   ],
   "source": [
    "A, B, C, D = sp.symbols('A, B, C, D')\n",
    "phi2 = (A*r**2 + B*r**4 + C*1/r**2 + D)*sp.cos(2*theta)\n",
    "phi2"
   ]
  },
  {
   "cell_type": "code",
   "execution_count": 34,
   "metadata": {},
   "outputs": [
    {
     "data": {
      "text/latex": [
       "$\\displaystyle \\left(- 2 A - \\frac{6 C}{r^{4}} - \\frac{4 D}{r^{2}}\\right) \\cos{\\left(2 \\theta \\right)}$"
      ],
      "text/plain": [
       "(-2*A - 6*C/r**4 - 4*D/r**2)*cos(2*theta)"
      ]
     },
     "metadata": {},
     "output_type": "display_data"
    },
    {
     "data": {
      "text/latex": [
       "$\\displaystyle \\left(2 A + 12 B r^{2} + \\frac{6 C}{r^{4}}\\right) \\cos{\\left(2 \\theta \\right)}$"
      ],
      "text/plain": [
       "(2*A + 12*B*r**2 + 6*C/r**4)*cos(2*theta)"
      ]
     },
     "metadata": {},
     "output_type": "display_data"
    },
    {
     "data": {
      "text/latex": [
       "$\\displaystyle \\left(2 A + 6 B r^{2} - \\frac{6 C}{r^{4}} - \\frac{2 D}{r^{2}}\\right) \\sin{\\left(2 \\theta \\right)}$"
      ],
      "text/plain": [
       "(2*A + 6*B*r**2 - 6*C/r**4 - 2*D/r**2)*sin(2*theta)"
      ]
     },
     "metadata": {},
     "output_type": "display_data"
    }
   ],
   "source": [
    "sigmarr2 = sigma_rr(phi2).collect(sp.cos(2*theta))\n",
    "sigmatt2 = sigma_tt(phi2).collect(sp.cos(2*theta))\n",
    "sigmart2 = sigma_rt(phi2).collect(sp.sin(2*theta))\n",
    "\n",
    "display(sigmarr2)\n",
    "display(sigmatt2)\n",
    "display(sigmart2)"
   ]
  },
  {
   "cell_type": "code",
   "execution_count": 35,
   "metadata": {},
   "outputs": [
    {
     "data": {
      "text/latex": [
       "$\\displaystyle - 2 A - \\frac{6 C}{b^{4}} - \\frac{4 D}{b^{2}} = \\frac{S}{2}$"
      ],
      "text/plain": [
       "Eq(-2*A - 6*C/b**4 - 4*D/b**2, S/2)"
      ]
     },
     "metadata": {},
     "output_type": "display_data"
    },
    {
     "data": {
      "text/latex": [
       "$\\displaystyle - 2 A - \\frac{6 C}{a^{4}} - \\frac{4 D}{a^{2}} = 0$"
      ],
      "text/plain": [
       "Eq(-2*A - 6*C/a**4 - 4*D/a**2, 0)"
      ]
     },
     "metadata": {},
     "output_type": "display_data"
    },
    {
     "data": {
      "text/latex": [
       "$\\displaystyle 2 A + 6 B b^{2} - \\frac{6 C}{b^{4}} - \\frac{2 D}{b^{2}} = - \\frac{S}{2}$"
      ],
      "text/plain": [
       "Eq(2*A + 6*B*b**2 - 6*C/b**4 - 2*D/b**2, -S/2)"
      ]
     },
     "metadata": {},
     "output_type": "display_data"
    },
    {
     "data": {
      "text/latex": [
       "$\\displaystyle 2 A + 6 B a^{2} - \\frac{6 C}{a^{4}} - \\frac{2 D}{a^{2}} = 0$"
      ],
      "text/plain": [
       "Eq(2*A + 6*B*a**2 - 6*C/a**4 - 2*D/a**2, 0)"
      ]
     },
     "metadata": {},
     "output_type": "display_data"
    }
   ],
   "source": [
    "a, b = sp.symbols('a,b')\n",
    "\n",
    "lhs = sigmarr2.subs(r,b)/sp.cos(2*theta)\n",
    "rhs = sp.Rational(1,2)*S\n",
    "eq1 = sp.Eq(lhs,rhs)\n",
    "display(eq1)\n",
    "\n",
    "lhs = sigmarr2.subs(r,a)/sp.cos(2*theta)\n",
    "rhs = 0\n",
    "eq2 = sp.Eq(lhs,rhs)\n",
    "display(eq2)\n",
    "\n",
    "lhs = sigmart2.subs(r,b)/sp.sin(2*theta)\n",
    "rhs = -sp.Rational(1,2)*S\n",
    "eq3 = sp.Eq(lhs,rhs)\n",
    "display(eq3)\n",
    "\n",
    "lhs = sigmart2.subs(r,a)/sp.sin(2*theta)\n",
    "rhs = 0\n",
    "eq4 = sp.Eq(lhs,rhs)\n",
    "display(eq4)"
   ]
  },
  {
   "cell_type": "code",
   "execution_count": 36,
   "metadata": {},
   "outputs": [],
   "source": [
    "soln, = sp.linsolve([eq1,eq2,eq3,eq4],(A,B,C,D))"
   ]
  },
  {
   "cell_type": "code",
   "execution_count": 37,
   "metadata": {},
   "outputs": [
    {
     "data": {
      "text/latex": [
       "$\\displaystyle \\frac{S b^{2} \\left(4 a^{4} + a^{2} b^{2} + b^{4}\\right)}{4 \\left(a^{6} - 3 a^{4} b^{2} + 3 a^{2} b^{4} - b^{6}\\right)}$"
      ],
      "text/plain": [
       "S*b**2*(4*a**4 + a**2*b**2 + b**4)/(4*(a**6 - 3*a**4*b**2 + 3*a**2*b**4 - b**6))"
      ]
     },
     "metadata": {},
     "output_type": "display_data"
    },
    {
     "data": {
      "text/latex": [
       "$\\displaystyle - \\frac{S a^{2} b^{2}}{2 a^{6} - 6 a^{4} b^{2} + 6 a^{2} b^{4} - 2 b^{6}}$"
      ],
      "text/plain": [
       "-S*a**2*b**2/(2*a**6 - 6*a**4*b**2 + 6*a**2*b**4 - 2*b**6)"
      ]
     },
     "metadata": {},
     "output_type": "display_data"
    },
    {
     "data": {
      "text/latex": [
       "$\\displaystyle \\frac{S a^{4} b^{4} \\left(a^{2} + b^{2}\\right)}{4 \\left(a^{6} - 3 a^{4} b^{2} + 3 a^{2} b^{4} - b^{6}\\right)}$"
      ],
      "text/plain": [
       "S*a**4*b**4*(a**2 + b**2)/(4*(a**6 - 3*a**4*b**2 + 3*a**2*b**4 - b**6))"
      ]
     },
     "metadata": {},
     "output_type": "display_data"
    },
    {
     "data": {
      "text/latex": [
       "$\\displaystyle - \\frac{S a^{2} b^{2} \\left(a^{4} + a^{2} b^{2} + b^{4}\\right)}{2 a^{6} - 6 a^{4} b^{2} + 6 a^{2} b^{4} - 2 b^{6}}$"
      ],
      "text/plain": [
       "-S*a**2*b**2*(a**4 + a**2*b**2 + b**4)/(2*a**6 - 6*a**4*b**2 + 6*a**2*b**4 - 2*b**6)"
      ]
     },
     "metadata": {},
     "output_type": "display_data"
    }
   ],
   "source": [
    "Avalue = soln[0]\n",
    "Bvalue = soln[1]\n",
    "Cvalue = soln[2]\n",
    "Dvalue = soln[3]\n",
    "\n",
    "display(Avalue, Bvalue, Cvalue, Dvalue)"
   ]
  },
  {
   "cell_type": "code",
   "execution_count": 38,
   "metadata": {},
   "outputs": [
    {
     "data": {
      "text/latex": [
       "$\\displaystyle - \\frac{S}{4}$"
      ],
      "text/plain": [
       "-S/4"
      ]
     },
     "metadata": {},
     "output_type": "display_data"
    },
    {
     "data": {
      "text/latex": [
       "$\\displaystyle 0$"
      ],
      "text/plain": [
       "0"
      ]
     },
     "metadata": {},
     "output_type": "display_data"
    },
    {
     "data": {
      "text/latex": [
       "$\\displaystyle - \\frac{S a^{4}}{4}$"
      ],
      "text/plain": [
       "-S*a**4/4"
      ]
     },
     "metadata": {},
     "output_type": "display_data"
    },
    {
     "data": {
      "text/latex": [
       "$\\displaystyle \\frac{S a^{2}}{2}$"
      ],
      "text/plain": [
       "S*a**2/2"
      ]
     },
     "metadata": {},
     "output_type": "display_data"
    }
   ],
   "source": [
    "Avalue_lim = sp.limit(Avalue,b,sp.oo)\n",
    "Bvalue_lim = sp.limit(Bvalue,b,sp.oo)\n",
    "Cvalue_lim = sp.limit(Cvalue,b,sp.oo)\n",
    "Dvalue_lim = sp.limit(Dvalue,b,sp.oo)\n",
    "\n",
    "display(Avalue_lim, Bvalue_lim, Cvalue_lim, Dvalue_lim)"
   ]
  },
  {
   "cell_type": "code",
   "execution_count": 44,
   "metadata": {},
   "outputs": [
    {
     "data": {
      "text/latex": [
       "$\\displaystyle \\left(\\frac{3 S a^{4}}{2 r^{4}} - \\frac{2 S a^{2}}{r^{2}} + \\frac{S}{2}\\right) \\cos{\\left(2 \\theta \\right)}$"
      ],
      "text/plain": [
       "(3*S*a**4/(2*r**4) - 2*S*a**2/r**2 + S/2)*cos(2*theta)"
      ]
     },
     "metadata": {},
     "output_type": "display_data"
    },
    {
     "data": {
      "text/latex": [
       "$\\displaystyle \\left(- \\frac{3 S a^{4}}{2 r^{4}} - \\frac{S}{2}\\right) \\cos{\\left(2 \\theta \\right)}$"
      ],
      "text/plain": [
       "(-3*S*a**4/(2*r**4) - S/2)*cos(2*theta)"
      ]
     },
     "metadata": {},
     "output_type": "display_data"
    },
    {
     "data": {
      "text/latex": [
       "$\\displaystyle \\left(\\frac{3 S a^{4}}{2 r^{4}} - \\frac{S a^{2}}{r^{2}} - \\frac{S}{2}\\right) \\sin{\\left(2 \\theta \\right)}$"
      ],
      "text/plain": [
       "(3*S*a**4/(2*r**4) - S*a**2/r**2 - S/2)*sin(2*theta)"
      ]
     },
     "metadata": {},
     "output_type": "display_data"
    }
   ],
   "source": [
    "sigmarr2_lim = sigmarr2.subs([(A,Avalue_lim),(B,Bvalue_lim),(C,Cvalue_lim),(D,Dvalue_lim)])\n",
    "sigmatt2_lim = sigmatt2.subs([(A,Avalue_lim),(B,Bvalue_lim),(C,Cvalue_lim),(D,Dvalue_lim)])\n",
    "sigmart2_lim = sigmart2.subs([(A,Avalue_lim),(B,Bvalue_lim),(C,Cvalue_lim),(D,Dvalue_lim)])\n",
    "display(sigmarr2_lim)\n",
    "display(sigmatt2_lim)\n",
    "display(sigmart2_lim)"
   ]
  },
  {
   "cell_type": "markdown",
   "metadata": {},
   "source": [
    "Finally, we combine the solutions of Problems 1 and 2 as follows:"
   ]
  },
  {
   "cell_type": "code",
   "execution_count": 51,
   "metadata": {},
   "outputs": [
    {
     "data": {
      "text/latex": [
       "$\\displaystyle \\sigma_{rr}^{\\rm final} = \\left(\\frac{3 S a^{4}}{2 r^{4}} - \\frac{2 S a^{2}}{r^{2}} + \\frac{S}{2}\\right) \\cos{\\left(2 \\theta \\right)} + \\frac{- S a^{2} + S r^{2}}{2 r^{2}}$"
      ],
      "text/plain": [
       "<IPython.core.display.Math object>"
      ]
     },
     "metadata": {},
     "output_type": "display_data"
    },
    {
     "data": {
      "text/latex": [
       "$\\displaystyle \\sigma_{\\theta\\theta}^{\\rm final} = \\left(- \\frac{3 S a^{4}}{2 r^{4}} - \\frac{S}{2}\\right) \\cos{\\left(2 \\theta \\right)} + \\frac{S a^{2} + S r^{2}}{2 r^{2}}$"
      ],
      "text/plain": [
       "<IPython.core.display.Math object>"
      ]
     },
     "metadata": {},
     "output_type": "display_data"
    },
    {
     "data": {
      "text/latex": [
       "$\\displaystyle \\sigma_{r\\theta}^{\\rm final} = \\left(\\frac{3 S a^{4}}{2 r^{4}} - \\frac{S a^{2}}{r^{2}} - \\frac{S}{2}\\right) \\sin{\\left(2 \\theta \\right)}$"
      ],
      "text/plain": [
       "<IPython.core.display.Math object>"
      ]
     },
     "metadata": {},
     "output_type": "display_data"
    }
   ],
   "source": [
    "sigmarr_final = sigmarr1_lim + sigmarr2_lim\n",
    "sigmatt_final = sigmatt1_lim + sigmatt2_lim\n",
    "sigmart_final = 0 + sigmart2_lim\n",
    "display(Math(r'\\sigma_{{rr}}^{{\\rm final}} = {}'.format(sp.latex(sigmarr_final))))\n",
    "display(Math(r'\\sigma_{{\\theta\\theta}}^{{\\rm final}} = {}'.format(sp.latex(sigmatt_final))))\n",
    "display(Math(r'\\sigma_{{r\\theta}}^{{\\rm final}} = {}'.format(sp.latex(sigmart_final))))"
   ]
  },
  {
   "cell_type": "markdown",
   "metadata": {},
   "source": [
    "These expressions of the stress components can be non-dimensionalized using the following scheme:\n",
    "\n",
    "\\begin{gather*}\n",
    "\\sigma_{rr} = \\bar{\\sigma}_{rr} S, \\quad \\sigma_{\\theta \\theta} = \\bar{\\sigma}_{\\theta\\theta} S, \\quad \\sigma_{r\\theta} = \\bar{\\sigma}_{r\\theta} S, \\\\\n",
    "r = \\bar{r} a\n",
    "\\end{gather*}\n",
    "\n",
    "Then the dimensionless stress component expressions become:\n",
    "\n",
    "\\begin{align*}\n",
    "\\bar{\\sigma}_{rr}^{\\rm final} &= \\frac{1}{2}\\left(1-\\frac{1}{\\bar{r}^2}\\right) + \\frac{1}{2}\\left(  1 + \\frac{3}{\\bar{r}^4} - \\frac{4}{\\bar{r}^2} \\right)\\cos(2\\theta) \\\\\n",
    "\\bar{\\sigma}_{\\theta\\theta}^{\\rm final} &= \\frac{1}{2}\\left(1+\\frac{1}{\\bar{r}^2}\\right) - \\frac{1}{2} \\left( 1 + \\frac{3}{\\bar{r}^4} \\right) \\cos(2\\theta) \\\\\n",
    "\\bar{\\sigma}_{r\\theta}^{\\rm final} &= -\\frac{1}{2} \\left( 1 - \\frac{3}{\\bar{r}^4} + \\frac{2}{\\bar{r}^2} \\right) \\sin (2\\theta)\n",
    "\\end{align*}"
   ]
  },
  {
   "cell_type": "markdown",
   "metadata": {},
   "source": [
    "We can visualize these dimensionless stress components in the form of surface plots as follows:"
   ]
  },
  {
   "cell_type": "code",
   "execution_count": 52,
   "metadata": {},
   "outputs": [
    {
     "data": {
      "application/javascript": [
       "/* Put everything inside the global mpl namespace */\n",
       "window.mpl = {};\n",
       "\n",
       "\n",
       "mpl.get_websocket_type = function() {\n",
       "    if (typeof(WebSocket) !== 'undefined') {\n",
       "        return WebSocket;\n",
       "    } else if (typeof(MozWebSocket) !== 'undefined') {\n",
       "        return MozWebSocket;\n",
       "    } else {\n",
       "        alert('Your browser does not have WebSocket support. ' +\n",
       "              'Please try Chrome, Safari or Firefox ≥ 6. ' +\n",
       "              'Firefox 4 and 5 are also supported but you ' +\n",
       "              'have to enable WebSockets in about:config.');\n",
       "    };\n",
       "}\n",
       "\n",
       "mpl.figure = function(figure_id, websocket, ondownload, parent_element) {\n",
       "    this.id = figure_id;\n",
       "\n",
       "    this.ws = websocket;\n",
       "\n",
       "    this.supports_binary = (this.ws.binaryType != undefined);\n",
       "\n",
       "    if (!this.supports_binary) {\n",
       "        var warnings = document.getElementById(\"mpl-warnings\");\n",
       "        if (warnings) {\n",
       "            warnings.style.display = 'block';\n",
       "            warnings.textContent = (\n",
       "                \"This browser does not support binary websocket messages. \" +\n",
       "                    \"Performance may be slow.\");\n",
       "        }\n",
       "    }\n",
       "\n",
       "    this.imageObj = new Image();\n",
       "\n",
       "    this.context = undefined;\n",
       "    this.message = undefined;\n",
       "    this.canvas = undefined;\n",
       "    this.rubberband_canvas = undefined;\n",
       "    this.rubberband_context = undefined;\n",
       "    this.format_dropdown = undefined;\n",
       "\n",
       "    this.image_mode = 'full';\n",
       "\n",
       "    this.root = $('<div/>');\n",
       "    this._root_extra_style(this.root)\n",
       "    this.root.attr('style', 'display: inline-block');\n",
       "\n",
       "    $(parent_element).append(this.root);\n",
       "\n",
       "    this._init_header(this);\n",
       "    this._init_canvas(this);\n",
       "    this._init_toolbar(this);\n",
       "\n",
       "    var fig = this;\n",
       "\n",
       "    this.waiting = false;\n",
       "\n",
       "    this.ws.onopen =  function () {\n",
       "            fig.send_message(\"supports_binary\", {value: fig.supports_binary});\n",
       "            fig.send_message(\"send_image_mode\", {});\n",
       "            if (mpl.ratio != 1) {\n",
       "                fig.send_message(\"set_dpi_ratio\", {'dpi_ratio': mpl.ratio});\n",
       "            }\n",
       "            fig.send_message(\"refresh\", {});\n",
       "        }\n",
       "\n",
       "    this.imageObj.onload = function() {\n",
       "            if (fig.image_mode == 'full') {\n",
       "                // Full images could contain transparency (where diff images\n",
       "                // almost always do), so we need to clear the canvas so that\n",
       "                // there is no ghosting.\n",
       "                fig.context.clearRect(0, 0, fig.canvas.width, fig.canvas.height);\n",
       "            }\n",
       "            fig.context.drawImage(fig.imageObj, 0, 0);\n",
       "        };\n",
       "\n",
       "    this.imageObj.onunload = function() {\n",
       "        fig.ws.close();\n",
       "    }\n",
       "\n",
       "    this.ws.onmessage = this._make_on_message_function(this);\n",
       "\n",
       "    this.ondownload = ondownload;\n",
       "}\n",
       "\n",
       "mpl.figure.prototype._init_header = function() {\n",
       "    var titlebar = $(\n",
       "        '<div class=\"ui-dialog-titlebar ui-widget-header ui-corner-all ' +\n",
       "        'ui-helper-clearfix\"/>');\n",
       "    var titletext = $(\n",
       "        '<div class=\"ui-dialog-title\" style=\"width: 100%; ' +\n",
       "        'text-align: center; padding: 3px;\"/>');\n",
       "    titlebar.append(titletext)\n",
       "    this.root.append(titlebar);\n",
       "    this.header = titletext[0];\n",
       "}\n",
       "\n",
       "\n",
       "\n",
       "mpl.figure.prototype._canvas_extra_style = function(canvas_div) {\n",
       "\n",
       "}\n",
       "\n",
       "\n",
       "mpl.figure.prototype._root_extra_style = function(canvas_div) {\n",
       "\n",
       "}\n",
       "\n",
       "mpl.figure.prototype._init_canvas = function() {\n",
       "    var fig = this;\n",
       "\n",
       "    var canvas_div = $('<div/>');\n",
       "\n",
       "    canvas_div.attr('style', 'position: relative; clear: both; outline: 0');\n",
       "\n",
       "    function canvas_keyboard_event(event) {\n",
       "        return fig.key_event(event, event['data']);\n",
       "    }\n",
       "\n",
       "    canvas_div.keydown('key_press', canvas_keyboard_event);\n",
       "    canvas_div.keyup('key_release', canvas_keyboard_event);\n",
       "    this.canvas_div = canvas_div\n",
       "    this._canvas_extra_style(canvas_div)\n",
       "    this.root.append(canvas_div);\n",
       "\n",
       "    var canvas = $('<canvas/>');\n",
       "    canvas.addClass('mpl-canvas');\n",
       "    canvas.attr('style', \"left: 0; top: 0; z-index: 0; outline: 0\")\n",
       "\n",
       "    this.canvas = canvas[0];\n",
       "    this.context = canvas[0].getContext(\"2d\");\n",
       "\n",
       "    var backingStore = this.context.backingStorePixelRatio ||\n",
       "\tthis.context.webkitBackingStorePixelRatio ||\n",
       "\tthis.context.mozBackingStorePixelRatio ||\n",
       "\tthis.context.msBackingStorePixelRatio ||\n",
       "\tthis.context.oBackingStorePixelRatio ||\n",
       "\tthis.context.backingStorePixelRatio || 1;\n",
       "\n",
       "    mpl.ratio = (window.devicePixelRatio || 1) / backingStore;\n",
       "\n",
       "    var rubberband = $('<canvas/>');\n",
       "    rubberband.attr('style', \"position: absolute; left: 0; top: 0; z-index: 1;\")\n",
       "\n",
       "    var pass_mouse_events = true;\n",
       "\n",
       "    canvas_div.resizable({\n",
       "        start: function(event, ui) {\n",
       "            pass_mouse_events = false;\n",
       "        },\n",
       "        resize: function(event, ui) {\n",
       "            fig.request_resize(ui.size.width, ui.size.height);\n",
       "        },\n",
       "        stop: function(event, ui) {\n",
       "            pass_mouse_events = true;\n",
       "            fig.request_resize(ui.size.width, ui.size.height);\n",
       "        },\n",
       "    });\n",
       "\n",
       "    function mouse_event_fn(event) {\n",
       "        if (pass_mouse_events)\n",
       "            return fig.mouse_event(event, event['data']);\n",
       "    }\n",
       "\n",
       "    rubberband.mousedown('button_press', mouse_event_fn);\n",
       "    rubberband.mouseup('button_release', mouse_event_fn);\n",
       "    // Throttle sequential mouse events to 1 every 20ms.\n",
       "    rubberband.mousemove('motion_notify', mouse_event_fn);\n",
       "\n",
       "    rubberband.mouseenter('figure_enter', mouse_event_fn);\n",
       "    rubberband.mouseleave('figure_leave', mouse_event_fn);\n",
       "\n",
       "    canvas_div.on(\"wheel\", function (event) {\n",
       "        event = event.originalEvent;\n",
       "        event['data'] = 'scroll'\n",
       "        if (event.deltaY < 0) {\n",
       "            event.step = 1;\n",
       "        } else {\n",
       "            event.step = -1;\n",
       "        }\n",
       "        mouse_event_fn(event);\n",
       "    });\n",
       "\n",
       "    canvas_div.append(canvas);\n",
       "    canvas_div.append(rubberband);\n",
       "\n",
       "    this.rubberband = rubberband;\n",
       "    this.rubberband_canvas = rubberband[0];\n",
       "    this.rubberband_context = rubberband[0].getContext(\"2d\");\n",
       "    this.rubberband_context.strokeStyle = \"#000000\";\n",
       "\n",
       "    this._resize_canvas = function(width, height) {\n",
       "        // Keep the size of the canvas, canvas container, and rubber band\n",
       "        // canvas in synch.\n",
       "        canvas_div.css('width', width)\n",
       "        canvas_div.css('height', height)\n",
       "\n",
       "        canvas.attr('width', width * mpl.ratio);\n",
       "        canvas.attr('height', height * mpl.ratio);\n",
       "        canvas.attr('style', 'width: ' + width + 'px; height: ' + height + 'px;');\n",
       "\n",
       "        rubberband.attr('width', width);\n",
       "        rubberband.attr('height', height);\n",
       "    }\n",
       "\n",
       "    // Set the figure to an initial 600x600px, this will subsequently be updated\n",
       "    // upon first draw.\n",
       "    this._resize_canvas(600, 600);\n",
       "\n",
       "    // Disable right mouse context menu.\n",
       "    $(this.rubberband_canvas).bind(\"contextmenu\",function(e){\n",
       "        return false;\n",
       "    });\n",
       "\n",
       "    function set_focus () {\n",
       "        canvas.focus();\n",
       "        canvas_div.focus();\n",
       "    }\n",
       "\n",
       "    window.setTimeout(set_focus, 100);\n",
       "}\n",
       "\n",
       "mpl.figure.prototype._init_toolbar = function() {\n",
       "    var fig = this;\n",
       "\n",
       "    var nav_element = $('<div/>');\n",
       "    nav_element.attr('style', 'width: 100%');\n",
       "    this.root.append(nav_element);\n",
       "\n",
       "    // Define a callback function for later on.\n",
       "    function toolbar_event(event) {\n",
       "        return fig.toolbar_button_onclick(event['data']);\n",
       "    }\n",
       "    function toolbar_mouse_event(event) {\n",
       "        return fig.toolbar_button_onmouseover(event['data']);\n",
       "    }\n",
       "\n",
       "    for(var toolbar_ind in mpl.toolbar_items) {\n",
       "        var name = mpl.toolbar_items[toolbar_ind][0];\n",
       "        var tooltip = mpl.toolbar_items[toolbar_ind][1];\n",
       "        var image = mpl.toolbar_items[toolbar_ind][2];\n",
       "        var method_name = mpl.toolbar_items[toolbar_ind][3];\n",
       "\n",
       "        if (!name) {\n",
       "            // put a spacer in here.\n",
       "            continue;\n",
       "        }\n",
       "        var button = $('<button/>');\n",
       "        button.addClass('ui-button ui-widget ui-state-default ui-corner-all ' +\n",
       "                        'ui-button-icon-only');\n",
       "        button.attr('role', 'button');\n",
       "        button.attr('aria-disabled', 'false');\n",
       "        button.click(method_name, toolbar_event);\n",
       "        button.mouseover(tooltip, toolbar_mouse_event);\n",
       "\n",
       "        var icon_img = $('<span/>');\n",
       "        icon_img.addClass('ui-button-icon-primary ui-icon');\n",
       "        icon_img.addClass(image);\n",
       "        icon_img.addClass('ui-corner-all');\n",
       "\n",
       "        var tooltip_span = $('<span/>');\n",
       "        tooltip_span.addClass('ui-button-text');\n",
       "        tooltip_span.html(tooltip);\n",
       "\n",
       "        button.append(icon_img);\n",
       "        button.append(tooltip_span);\n",
       "\n",
       "        nav_element.append(button);\n",
       "    }\n",
       "\n",
       "    var fmt_picker_span = $('<span/>');\n",
       "\n",
       "    var fmt_picker = $('<select/>');\n",
       "    fmt_picker.addClass('mpl-toolbar-option ui-widget ui-widget-content');\n",
       "    fmt_picker_span.append(fmt_picker);\n",
       "    nav_element.append(fmt_picker_span);\n",
       "    this.format_dropdown = fmt_picker[0];\n",
       "\n",
       "    for (var ind in mpl.extensions) {\n",
       "        var fmt = mpl.extensions[ind];\n",
       "        var option = $(\n",
       "            '<option/>', {selected: fmt === mpl.default_extension}).html(fmt);\n",
       "        fmt_picker.append(option);\n",
       "    }\n",
       "\n",
       "    // Add hover states to the ui-buttons\n",
       "    $( \".ui-button\" ).hover(\n",
       "        function() { $(this).addClass(\"ui-state-hover\");},\n",
       "        function() { $(this).removeClass(\"ui-state-hover\");}\n",
       "    );\n",
       "\n",
       "    var status_bar = $('<span class=\"mpl-message\"/>');\n",
       "    nav_element.append(status_bar);\n",
       "    this.message = status_bar[0];\n",
       "}\n",
       "\n",
       "mpl.figure.prototype.request_resize = function(x_pixels, y_pixels) {\n",
       "    // Request matplotlib to resize the figure. Matplotlib will then trigger a resize in the client,\n",
       "    // which will in turn request a refresh of the image.\n",
       "    this.send_message('resize', {'width': x_pixels, 'height': y_pixels});\n",
       "}\n",
       "\n",
       "mpl.figure.prototype.send_message = function(type, properties) {\n",
       "    properties['type'] = type;\n",
       "    properties['figure_id'] = this.id;\n",
       "    this.ws.send(JSON.stringify(properties));\n",
       "}\n",
       "\n",
       "mpl.figure.prototype.send_draw_message = function() {\n",
       "    if (!this.waiting) {\n",
       "        this.waiting = true;\n",
       "        this.ws.send(JSON.stringify({type: \"draw\", figure_id: this.id}));\n",
       "    }\n",
       "}\n",
       "\n",
       "\n",
       "mpl.figure.prototype.handle_save = function(fig, msg) {\n",
       "    var format_dropdown = fig.format_dropdown;\n",
       "    var format = format_dropdown.options[format_dropdown.selectedIndex].value;\n",
       "    fig.ondownload(fig, format);\n",
       "}\n",
       "\n",
       "\n",
       "mpl.figure.prototype.handle_resize = function(fig, msg) {\n",
       "    var size = msg['size'];\n",
       "    if (size[0] != fig.canvas.width || size[1] != fig.canvas.height) {\n",
       "        fig._resize_canvas(size[0], size[1]);\n",
       "        fig.send_message(\"refresh\", {});\n",
       "    };\n",
       "}\n",
       "\n",
       "mpl.figure.prototype.handle_rubberband = function(fig, msg) {\n",
       "    var x0 = msg['x0'] / mpl.ratio;\n",
       "    var y0 = (fig.canvas.height - msg['y0']) / mpl.ratio;\n",
       "    var x1 = msg['x1'] / mpl.ratio;\n",
       "    var y1 = (fig.canvas.height - msg['y1']) / mpl.ratio;\n",
       "    x0 = Math.floor(x0) + 0.5;\n",
       "    y0 = Math.floor(y0) + 0.5;\n",
       "    x1 = Math.floor(x1) + 0.5;\n",
       "    y1 = Math.floor(y1) + 0.5;\n",
       "    var min_x = Math.min(x0, x1);\n",
       "    var min_y = Math.min(y0, y1);\n",
       "    var width = Math.abs(x1 - x0);\n",
       "    var height = Math.abs(y1 - y0);\n",
       "\n",
       "    fig.rubberband_context.clearRect(\n",
       "        0, 0, fig.canvas.width, fig.canvas.height);\n",
       "\n",
       "    fig.rubberband_context.strokeRect(min_x, min_y, width, height);\n",
       "}\n",
       "\n",
       "mpl.figure.prototype.handle_figure_label = function(fig, msg) {\n",
       "    // Updates the figure title.\n",
       "    fig.header.textContent = msg['label'];\n",
       "}\n",
       "\n",
       "mpl.figure.prototype.handle_cursor = function(fig, msg) {\n",
       "    var cursor = msg['cursor'];\n",
       "    switch(cursor)\n",
       "    {\n",
       "    case 0:\n",
       "        cursor = 'pointer';\n",
       "        break;\n",
       "    case 1:\n",
       "        cursor = 'default';\n",
       "        break;\n",
       "    case 2:\n",
       "        cursor = 'crosshair';\n",
       "        break;\n",
       "    case 3:\n",
       "        cursor = 'move';\n",
       "        break;\n",
       "    }\n",
       "    fig.rubberband_canvas.style.cursor = cursor;\n",
       "}\n",
       "\n",
       "mpl.figure.prototype.handle_message = function(fig, msg) {\n",
       "    fig.message.textContent = msg['message'];\n",
       "}\n",
       "\n",
       "mpl.figure.prototype.handle_draw = function(fig, msg) {\n",
       "    // Request the server to send over a new figure.\n",
       "    fig.send_draw_message();\n",
       "}\n",
       "\n",
       "mpl.figure.prototype.handle_image_mode = function(fig, msg) {\n",
       "    fig.image_mode = msg['mode'];\n",
       "}\n",
       "\n",
       "mpl.figure.prototype.updated_canvas_event = function() {\n",
       "    // Called whenever the canvas gets updated.\n",
       "    this.send_message(\"ack\", {});\n",
       "}\n",
       "\n",
       "// A function to construct a web socket function for onmessage handling.\n",
       "// Called in the figure constructor.\n",
       "mpl.figure.prototype._make_on_message_function = function(fig) {\n",
       "    return function socket_on_message(evt) {\n",
       "        if (evt.data instanceof Blob) {\n",
       "            /* FIXME: We get \"Resource interpreted as Image but\n",
       "             * transferred with MIME type text/plain:\" errors on\n",
       "             * Chrome.  But how to set the MIME type?  It doesn't seem\n",
       "             * to be part of the websocket stream */\n",
       "            evt.data.type = \"image/png\";\n",
       "\n",
       "            /* Free the memory for the previous frames */\n",
       "            if (fig.imageObj.src) {\n",
       "                (window.URL || window.webkitURL).revokeObjectURL(\n",
       "                    fig.imageObj.src);\n",
       "            }\n",
       "\n",
       "            fig.imageObj.src = (window.URL || window.webkitURL).createObjectURL(\n",
       "                evt.data);\n",
       "            fig.updated_canvas_event();\n",
       "            fig.waiting = false;\n",
       "            return;\n",
       "        }\n",
       "        else if (typeof evt.data === 'string' && evt.data.slice(0, 21) == \"data:image/png;base64\") {\n",
       "            fig.imageObj.src = evt.data;\n",
       "            fig.updated_canvas_event();\n",
       "            fig.waiting = false;\n",
       "            return;\n",
       "        }\n",
       "\n",
       "        var msg = JSON.parse(evt.data);\n",
       "        var msg_type = msg['type'];\n",
       "\n",
       "        // Call the  \"handle_{type}\" callback, which takes\n",
       "        // the figure and JSON message as its only arguments.\n",
       "        try {\n",
       "            var callback = fig[\"handle_\" + msg_type];\n",
       "        } catch (e) {\n",
       "            console.log(\"No handler for the '\" + msg_type + \"' message type: \", msg);\n",
       "            return;\n",
       "        }\n",
       "\n",
       "        if (callback) {\n",
       "            try {\n",
       "                // console.log(\"Handling '\" + msg_type + \"' message: \", msg);\n",
       "                callback(fig, msg);\n",
       "            } catch (e) {\n",
       "                console.log(\"Exception inside the 'handler_\" + msg_type + \"' callback:\", e, e.stack, msg);\n",
       "            }\n",
       "        }\n",
       "    };\n",
       "}\n",
       "\n",
       "// from http://stackoverflow.com/questions/1114465/getting-mouse-location-in-canvas\n",
       "mpl.findpos = function(e) {\n",
       "    //this section is from http://www.quirksmode.org/js/events_properties.html\n",
       "    var targ;\n",
       "    if (!e)\n",
       "        e = window.event;\n",
       "    if (e.target)\n",
       "        targ = e.target;\n",
       "    else if (e.srcElement)\n",
       "        targ = e.srcElement;\n",
       "    if (targ.nodeType == 3) // defeat Safari bug\n",
       "        targ = targ.parentNode;\n",
       "\n",
       "    // jQuery normalizes the pageX and pageY\n",
       "    // pageX,Y are the mouse positions relative to the document\n",
       "    // offset() returns the position of the element relative to the document\n",
       "    var x = e.pageX - $(targ).offset().left;\n",
       "    var y = e.pageY - $(targ).offset().top;\n",
       "\n",
       "    return {\"x\": x, \"y\": y};\n",
       "};\n",
       "\n",
       "/*\n",
       " * return a copy of an object with only non-object keys\n",
       " * we need this to avoid circular references\n",
       " * http://stackoverflow.com/a/24161582/3208463\n",
       " */\n",
       "function simpleKeys (original) {\n",
       "  return Object.keys(original).reduce(function (obj, key) {\n",
       "    if (typeof original[key] !== 'object')\n",
       "        obj[key] = original[key]\n",
       "    return obj;\n",
       "  }, {});\n",
       "}\n",
       "\n",
       "mpl.figure.prototype.mouse_event = function(event, name) {\n",
       "    var canvas_pos = mpl.findpos(event)\n",
       "\n",
       "    if (name === 'button_press')\n",
       "    {\n",
       "        this.canvas.focus();\n",
       "        this.canvas_div.focus();\n",
       "    }\n",
       "\n",
       "    var x = canvas_pos.x * mpl.ratio;\n",
       "    var y = canvas_pos.y * mpl.ratio;\n",
       "\n",
       "    this.send_message(name, {x: x, y: y, button: event.button,\n",
       "                             step: event.step,\n",
       "                             guiEvent: simpleKeys(event)});\n",
       "\n",
       "    /* This prevents the web browser from automatically changing to\n",
       "     * the text insertion cursor when the button is pressed.  We want\n",
       "     * to control all of the cursor setting manually through the\n",
       "     * 'cursor' event from matplotlib */\n",
       "    event.preventDefault();\n",
       "    return false;\n",
       "}\n",
       "\n",
       "mpl.figure.prototype._key_event_extra = function(event, name) {\n",
       "    // Handle any extra behaviour associated with a key event\n",
       "}\n",
       "\n",
       "mpl.figure.prototype.key_event = function(event, name) {\n",
       "\n",
       "    // Prevent repeat events\n",
       "    if (name == 'key_press')\n",
       "    {\n",
       "        if (event.which === this._key)\n",
       "            return;\n",
       "        else\n",
       "            this._key = event.which;\n",
       "    }\n",
       "    if (name == 'key_release')\n",
       "        this._key = null;\n",
       "\n",
       "    var value = '';\n",
       "    if (event.ctrlKey && event.which != 17)\n",
       "        value += \"ctrl+\";\n",
       "    if (event.altKey && event.which != 18)\n",
       "        value += \"alt+\";\n",
       "    if (event.shiftKey && event.which != 16)\n",
       "        value += \"shift+\";\n",
       "\n",
       "    value += 'k';\n",
       "    value += event.which.toString();\n",
       "\n",
       "    this._key_event_extra(event, name);\n",
       "\n",
       "    this.send_message(name, {key: value,\n",
       "                             guiEvent: simpleKeys(event)});\n",
       "    return false;\n",
       "}\n",
       "\n",
       "mpl.figure.prototype.toolbar_button_onclick = function(name) {\n",
       "    if (name == 'download') {\n",
       "        this.handle_save(this, null);\n",
       "    } else {\n",
       "        this.send_message(\"toolbar_button\", {name: name});\n",
       "    }\n",
       "};\n",
       "\n",
       "mpl.figure.prototype.toolbar_button_onmouseover = function(tooltip) {\n",
       "    this.message.textContent = tooltip;\n",
       "};\n",
       "mpl.toolbar_items = [[\"Home\", \"Reset original view\", \"fa fa-home icon-home\", \"home\"], [\"Back\", \"Back to previous view\", \"fa fa-arrow-left icon-arrow-left\", \"back\"], [\"Forward\", \"Forward to next view\", \"fa fa-arrow-right icon-arrow-right\", \"forward\"], [\"\", \"\", \"\", \"\"], [\"Pan\", \"Pan axes with left mouse, zoom with right\", \"fa fa-arrows icon-move\", \"pan\"], [\"Zoom\", \"Zoom to rectangle\", \"fa fa-square-o icon-check-empty\", \"zoom\"], [\"\", \"\", \"\", \"\"], [\"Download\", \"Download plot\", \"fa fa-floppy-o icon-save\", \"download\"]];\n",
       "\n",
       "mpl.extensions = [\"eps\", \"jpeg\", \"pdf\", \"png\", \"ps\", \"raw\", \"svg\", \"tif\"];\n",
       "\n",
       "mpl.default_extension = \"png\";var comm_websocket_adapter = function(comm) {\n",
       "    // Create a \"websocket\"-like object which calls the given IPython comm\n",
       "    // object with the appropriate methods. Currently this is a non binary\n",
       "    // socket, so there is still some room for performance tuning.\n",
       "    var ws = {};\n",
       "\n",
       "    ws.close = function() {\n",
       "        comm.close()\n",
       "    };\n",
       "    ws.send = function(m) {\n",
       "        //console.log('sending', m);\n",
       "        comm.send(m);\n",
       "    };\n",
       "    // Register the callback with on_msg.\n",
       "    comm.on_msg(function(msg) {\n",
       "        //console.log('receiving', msg['content']['data'], msg);\n",
       "        // Pass the mpl event to the overridden (by mpl) onmessage function.\n",
       "        ws.onmessage(msg['content']['data'])\n",
       "    });\n",
       "    return ws;\n",
       "}\n",
       "\n",
       "mpl.mpl_figure_comm = function(comm, msg) {\n",
       "    // This is the function which gets called when the mpl process\n",
       "    // starts-up an IPython Comm through the \"matplotlib\" channel.\n",
       "\n",
       "    var id = msg.content.data.id;\n",
       "    // Get hold of the div created by the display call when the Comm\n",
       "    // socket was opened in Python.\n",
       "    var element = $(\"#\" + id);\n",
       "    var ws_proxy = comm_websocket_adapter(comm)\n",
       "\n",
       "    function ondownload(figure, format) {\n",
       "        window.open(figure.imageObj.src);\n",
       "    }\n",
       "\n",
       "    var fig = new mpl.figure(id, ws_proxy,\n",
       "                           ondownload,\n",
       "                           element.get(0));\n",
       "\n",
       "    // Call onopen now - mpl needs it, as it is assuming we've passed it a real\n",
       "    // web socket which is closed, not our websocket->open comm proxy.\n",
       "    ws_proxy.onopen();\n",
       "\n",
       "    fig.parent_element = element.get(0);\n",
       "    fig.cell_info = mpl.find_output_cell(\"<div id='\" + id + \"'></div>\");\n",
       "    if (!fig.cell_info) {\n",
       "        console.error(\"Failed to find cell for figure\", id, fig);\n",
       "        return;\n",
       "    }\n",
       "\n",
       "    var output_index = fig.cell_info[2]\n",
       "    var cell = fig.cell_info[0];\n",
       "\n",
       "};\n",
       "\n",
       "mpl.figure.prototype.handle_close = function(fig, msg) {\n",
       "    var width = fig.canvas.width/mpl.ratio\n",
       "    fig.root.unbind('remove')\n",
       "\n",
       "    // Update the output cell to use the data from the current canvas.\n",
       "    fig.push_to_output();\n",
       "    var dataURL = fig.canvas.toDataURL();\n",
       "    // Re-enable the keyboard manager in IPython - without this line, in FF,\n",
       "    // the notebook keyboard shortcuts fail.\n",
       "    IPython.keyboard_manager.enable()\n",
       "    $(fig.parent_element).html('<img src=\"' + dataURL + '\" width=\"' + width + '\">');\n",
       "    fig.close_ws(fig, msg);\n",
       "}\n",
       "\n",
       "mpl.figure.prototype.close_ws = function(fig, msg){\n",
       "    fig.send_message('closing', msg);\n",
       "    // fig.ws.close()\n",
       "}\n",
       "\n",
       "mpl.figure.prototype.push_to_output = function(remove_interactive) {\n",
       "    // Turn the data on the canvas into data in the output cell.\n",
       "    var width = this.canvas.width/mpl.ratio\n",
       "    var dataURL = this.canvas.toDataURL();\n",
       "    this.cell_info[1]['text/html'] = '<img src=\"' + dataURL + '\" width=\"' + width + '\">';\n",
       "}\n",
       "\n",
       "mpl.figure.prototype.updated_canvas_event = function() {\n",
       "    // Tell IPython that the notebook contents must change.\n",
       "    IPython.notebook.set_dirty(true);\n",
       "    this.send_message(\"ack\", {});\n",
       "    var fig = this;\n",
       "    // Wait a second, then push the new image to the DOM so\n",
       "    // that it is saved nicely (might be nice to debounce this).\n",
       "    setTimeout(function () { fig.push_to_output() }, 1000);\n",
       "}\n",
       "\n",
       "mpl.figure.prototype._init_toolbar = function() {\n",
       "    var fig = this;\n",
       "\n",
       "    var nav_element = $('<div/>');\n",
       "    nav_element.attr('style', 'width: 100%');\n",
       "    this.root.append(nav_element);\n",
       "\n",
       "    // Define a callback function for later on.\n",
       "    function toolbar_event(event) {\n",
       "        return fig.toolbar_button_onclick(event['data']);\n",
       "    }\n",
       "    function toolbar_mouse_event(event) {\n",
       "        return fig.toolbar_button_onmouseover(event['data']);\n",
       "    }\n",
       "\n",
       "    for(var toolbar_ind in mpl.toolbar_items){\n",
       "        var name = mpl.toolbar_items[toolbar_ind][0];\n",
       "        var tooltip = mpl.toolbar_items[toolbar_ind][1];\n",
       "        var image = mpl.toolbar_items[toolbar_ind][2];\n",
       "        var method_name = mpl.toolbar_items[toolbar_ind][3];\n",
       "\n",
       "        if (!name) { continue; };\n",
       "\n",
       "        var button = $('<button class=\"btn btn-default\" href=\"#\" title=\"' + name + '\"><i class=\"fa ' + image + ' fa-lg\"></i></button>');\n",
       "        button.click(method_name, toolbar_event);\n",
       "        button.mouseover(tooltip, toolbar_mouse_event);\n",
       "        nav_element.append(button);\n",
       "    }\n",
       "\n",
       "    // Add the status bar.\n",
       "    var status_bar = $('<span class=\"mpl-message\" style=\"text-align:right; float: right;\"/>');\n",
       "    nav_element.append(status_bar);\n",
       "    this.message = status_bar[0];\n",
       "\n",
       "    // Add the close button to the window.\n",
       "    var buttongrp = $('<div class=\"btn-group inline pull-right\"></div>');\n",
       "    var button = $('<button class=\"btn btn-mini btn-primary\" href=\"#\" title=\"Stop Interaction\"><i class=\"fa fa-power-off icon-remove icon-large\"></i></button>');\n",
       "    button.click(function (evt) { fig.handle_close(fig, {}); } );\n",
       "    button.mouseover('Stop Interaction', toolbar_mouse_event);\n",
       "    buttongrp.append(button);\n",
       "    var titlebar = this.root.find($('.ui-dialog-titlebar'));\n",
       "    titlebar.prepend(buttongrp);\n",
       "}\n",
       "\n",
       "mpl.figure.prototype._root_extra_style = function(el){\n",
       "    var fig = this\n",
       "    el.on(\"remove\", function(){\n",
       "\tfig.close_ws(fig, {});\n",
       "    });\n",
       "}\n",
       "\n",
       "mpl.figure.prototype._canvas_extra_style = function(el){\n",
       "    // this is important to make the div 'focusable\n",
       "    el.attr('tabindex', 0)\n",
       "    // reach out to IPython and tell the keyboard manager to turn it's self\n",
       "    // off when our div gets focus\n",
       "\n",
       "    // location in version 3\n",
       "    if (IPython.notebook.keyboard_manager) {\n",
       "        IPython.notebook.keyboard_manager.register_events(el);\n",
       "    }\n",
       "    else {\n",
       "        // location in version 2\n",
       "        IPython.keyboard_manager.register_events(el);\n",
       "    }\n",
       "\n",
       "}\n",
       "\n",
       "mpl.figure.prototype._key_event_extra = function(event, name) {\n",
       "    var manager = IPython.notebook.keyboard_manager;\n",
       "    if (!manager)\n",
       "        manager = IPython.keyboard_manager;\n",
       "\n",
       "    // Check for shift+enter\n",
       "    if (event.shiftKey && event.which == 13) {\n",
       "        this.canvas_div.blur();\n",
       "        event.shiftKey = false;\n",
       "        // Send a \"J\" for go to next cell\n",
       "        event.which = 74;\n",
       "        event.keyCode = 74;\n",
       "        manager.command_mode();\n",
       "        manager.handle_keydown(event);\n",
       "    }\n",
       "}\n",
       "\n",
       "mpl.figure.prototype.handle_save = function(fig, msg) {\n",
       "    fig.ondownload(fig, null);\n",
       "}\n",
       "\n",
       "\n",
       "mpl.find_output_cell = function(html_output) {\n",
       "    // Return the cell and output element which can be found *uniquely* in the notebook.\n",
       "    // Note - this is a bit hacky, but it is done because the \"notebook_saving.Notebook\"\n",
       "    // IPython event is triggered only after the cells have been serialised, which for\n",
       "    // our purposes (turning an active figure into a static one), is too late.\n",
       "    var cells = IPython.notebook.get_cells();\n",
       "    var ncells = cells.length;\n",
       "    for (var i=0; i<ncells; i++) {\n",
       "        var cell = cells[i];\n",
       "        if (cell.cell_type === 'code'){\n",
       "            for (var j=0; j<cell.output_area.outputs.length; j++) {\n",
       "                var data = cell.output_area.outputs[j];\n",
       "                if (data.data) {\n",
       "                    // IPython >= 3 moved mimebundle to data attribute of output\n",
       "                    data = data.data;\n",
       "                }\n",
       "                if (data['text/html'] == html_output) {\n",
       "                    return [cell, data, j];\n",
       "                }\n",
       "            }\n",
       "        }\n",
       "    }\n",
       "}\n",
       "\n",
       "// Register the function which deals with the matplotlib target/channel.\n",
       "// The kernel may be null if the page has been refreshed.\n",
       "if (IPython.notebook.kernel != null) {\n",
       "    IPython.notebook.kernel.comm_manager.register_target('matplotlib', mpl.mpl_figure_comm);\n",
       "}\n"
      ],
      "text/plain": [
       "<IPython.core.display.Javascript object>"
      ]
     },
     "metadata": {},
     "output_type": "display_data"
    },
    {
     "data": {
      "text/html": [
       "<img src=\"data:image/png;base64,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\" width=\"639.9999630089984\">"
      ],
      "text/plain": [
       "<IPython.core.display.HTML object>"
      ]
     },
     "metadata": {},
     "output_type": "display_data"
    }
   ],
   "source": [
    "%matplotlib notebook\n",
    "from mpl_toolkits.mplot3d import Axes3D\n",
    "\n",
    "import matplotlib.pyplot as plt\n",
    "import numpy as np\n",
    "\n",
    "\n",
    "fig = plt.figure()\n",
    "ax = fig.add_subplot(111, projection='3d')\n",
    "\n",
    "rbar = np.linspace(1, 5, 50)\n",
    "tbar = np.linspace(0, 2*np.pi, 50)\n",
    "R, T = np.meshgrid(rbar, tbar)\n",
    "\n",
    "sigmarr_num = -1/(2*R**2) + (1.5/R**4 - 2/R**2 + 0.5)*np.cos(2*T) + 0.5\n",
    "sigmatt_num = 0.5/R**2 + (-1.5/R**4 - 0.5)*np.cos(2*T) + 0.5\n",
    "sigmart_num = (3/(2*R**4) - 1/R**2 - 1/2)*np.sin(2*T)\n",
    "\n",
    "X, Y = R*np.cos(T), R*np.sin(T)\n",
    "\n",
    "surf = ax.plot_surface(X,Y,sigmatt_num,cmap=plt.cm.coolwarm)\n",
    "plt.colorbar(surf)\n",
    "ax.view_init(90,0)"
   ]
  }
 ],
 "metadata": {
  "hide_input": false,
  "kernelspec": {
   "display_name": "Python 3",
   "language": "python",
   "name": "python3"
  },
  "language_info": {
   "codemirror_mode": {
    "name": "ipython",
    "version": 3
   },
   "file_extension": ".py",
   "mimetype": "text/x-python",
   "name": "python",
   "nbconvert_exporter": "python",
   "pygments_lexer": "ipython3",
   "version": "3.7.3"
  },
  "varInspector": {
   "cols": {
    "lenName": 16,
    "lenType": 16,
    "lenVar": 40
   },
   "kernels_config": {
    "python": {
     "delete_cmd_postfix": "",
     "delete_cmd_prefix": "del ",
     "library": "var_list.py",
     "varRefreshCmd": "print(var_dic_list())"
    },
    "r": {
     "delete_cmd_postfix": ") ",
     "delete_cmd_prefix": "rm(",
     "library": "var_list.r",
     "varRefreshCmd": "cat(var_dic_list()) "
    }
   },
   "types_to_exclude": [
    "module",
    "function",
    "builtin_function_or_method",
    "instance",
    "_Feature"
   ],
   "window_display": false
  }
 },
 "nbformat": 4,
 "nbformat_minor": 2
}
