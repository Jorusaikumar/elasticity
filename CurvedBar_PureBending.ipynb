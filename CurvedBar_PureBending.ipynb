{
 "cells": [
  {
   "cell_type": "markdown",
   "metadata": {},
   "source": [
    "# Pure Bending of a Curved Bar\n",
    "\n",
    "In the first file, we had considered the problem of the thick-walled pressure vessel. The solution to the stress field was found by considering a $\\theta$-independent Airy stress function. \n",
    "\n",
    "In this file, we are going to consider the problem of the pure bending of a curved bar. And, again we are going to consider a $\\theta$-independent Airy stress function. \n",
    "\n",
    "Before proceeding, however, note an important difference with the first file. In that first file, before going on to the actual problem of the thick-walled pressure vessel, we had written a bunch of definitions to obtain the form of the biharmonic equation in polar coordinates as well as to determine the stress components in polar coordinates through appropriate transformations of the stress fields in the rectangular Cartesian coordinate system. In this file, we do not go into writing all those definitions again. Instead, we copy all those definitions in a separate python file `polarUtilites.py` and store the file in the same folder. So, before proceeding, in order to make those definitions available for the current problem solution, we first need to import that file:"
   ]
  },
  {
   "cell_type": "code",
   "execution_count": 15,
   "metadata": {},
   "outputs": [],
   "source": [
    "from polarUtilities import *"
   ]
  },
  {
   "cell_type": "markdown",
   "metadata": {},
   "source": [
    "We now set the Airy stress function to be $\\theta$-independent:"
   ]
  },
  {
   "cell_type": "code",
   "execution_count": 16,
   "metadata": {},
   "outputs": [
    {
     "data": {
      "text/latex": [
       "$\\displaystyle \\phi{\\left(r \\right)}$"
      ],
      "text/plain": [
       "phi(r)"
      ]
     },
     "execution_count": 16,
     "metadata": {},
     "output_type": "execute_result"
    }
   ],
   "source": [
    "phi = sp.Function('phi')(r)\n",
    "phi"
   ]
  },
  {
   "cell_type": "markdown",
   "metadata": {},
   "source": [
    "We now solve the biharmonic equation $\\nabla^4 \\phi = 0$ as follows:"
   ]
  },
  {
   "cell_type": "code",
   "execution_count": 17,
   "metadata": {},
   "outputs": [
    {
     "data": {
      "text/latex": [
       "$\\displaystyle \\phi{\\left(r \\right)} = C_{1} + C_{2} r^{2} + C_{3} r^{2} \\log{\\left(r \\right)} + C_{4} \\log{\\left(r \\right)}$"
      ],
      "text/plain": [
       "Eq(phi(r), C1 + C2*r**2 + C3*r**2*log(r) + C4*log(r))"
      ]
     },
     "execution_count": 17,
     "metadata": {},
     "output_type": "execute_result"
    }
   ],
   "source": [
    "sp.dsolve(polarbiharmonic(phi))"
   ]
  },
  {
   "cell_type": "markdown",
   "metadata": {},
   "source": [
    "This solution is, of course, the same solution that we had obtained in the first file. However, in order to have the same notation as in Timoshenko and Goodier, we rewrite $\\phi$ as follows:"
   ]
  },
  {
   "cell_type": "code",
   "execution_count": 18,
   "metadata": {},
   "outputs": [
    {
     "data": {
      "text/latex": [
       "$\\displaystyle A \\log{\\left(r \\right)} + B r^{2} \\log{\\left(r \\right)} + C r^{2} + D$"
      ],
      "text/plain": [
       "A*log(r) + B*r**2*log(r) + C*r**2 + D"
      ]
     },
     "execution_count": 18,
     "metadata": {},
     "output_type": "execute_result"
    }
   ],
   "source": [
    "A, B, C, D = sp.symbols('A, B, C, D')\n",
    "\n",
    "phi = A*sp.log(r)+B*r**2*sp.log(r)+C*r**2+D\n",
    "phi"
   ]
  },
  {
   "cell_type": "markdown",
   "metadata": {},
   "source": [
    "We again use a better way to display the variables as follows:"
   ]
  },
  {
   "cell_type": "code",
   "execution_count": 19,
   "metadata": {},
   "outputs": [],
   "source": [
    "from IPython.display import Math, Latex"
   ]
  },
  {
   "cell_type": "code",
   "execution_count": 20,
   "metadata": {},
   "outputs": [
    {
     "data": {
      "text/latex": [
       "$\\displaystyle \\phi = A \\log{\\left(r \\right)} + B r^{2} \\log{\\left(r \\right)} + C r^{2} + D$"
      ],
      "text/plain": [
       "<IPython.core.display.Math object>"
      ]
     },
     "metadata": {},
     "output_type": "display_data"
    }
   ],
   "source": [
    "display(Math(r'\\phi = {}'.format(sp.latex(phi))))"
   ]
  },
  {
   "cell_type": "markdown",
   "metadata": {},
   "source": [
    "We can now obtain the expressions of the stress components $\\sigma_{rr}$, $\\sigma_{\\theta\\theta}$, and $\\sigma_{r\\theta}$:"
   ]
  },
  {
   "cell_type": "code",
   "execution_count": 21,
   "metadata": {},
   "outputs": [
    {
     "data": {
      "text/latex": [
       "$\\displaystyle \\sigma_{rr} = \\frac{A}{r^{2}} + 2 B \\log{\\left(r \\right)} + B + 2 C$"
      ],
      "text/plain": [
       "<IPython.core.display.Math object>"
      ]
     },
     "metadata": {},
     "output_type": "display_data"
    },
    {
     "data": {
      "text/latex": [
       "$\\displaystyle \\sigma_{\\theta\\theta} = - \\frac{A}{r^{2}} + 2 B \\log{\\left(r \\right)} + 3 B + 2 C$"
      ],
      "text/plain": [
       "<IPython.core.display.Math object>"
      ]
     },
     "metadata": {},
     "output_type": "display_data"
    },
    {
     "data": {
      "text/latex": [
       "$\\displaystyle \\sigma_{r\\theta} = 0$"
      ],
      "text/plain": [
       "<IPython.core.display.Math object>"
      ]
     },
     "metadata": {},
     "output_type": "display_data"
    }
   ],
   "source": [
    "sigmarr = sigma_rr(phi)\n",
    "sigmatt = sigma_tt(phi)\n",
    "sigmart = sigma_rt(phi)\n",
    "\n",
    "display(Math(r'\\sigma_{{rr}} = {}'.format(sp.latex(sigmarr))))\n",
    "display(Math(r'\\sigma_{{\\theta\\theta}} = {}'.format(sp.latex(sigmatt))))\n",
    "display(Math(r'\\sigma_{{r\\theta}} = {}'.format(sp.latex(sigmart))))"
   ]
  },
  {
   "cell_type": "markdown",
   "metadata": {},
   "source": [
    "We note that up to this point there is no difference with the first file. However, we need to solve for $A$, $B$, $C$, and $D$ subject to the boundary conditions appropriate for this problem, which are:\n",
    "\n",
    "\\begin{align}\n",
    "\\sigma_{rr} &= 0 \\quad \\text{at $r=a$} \\\\\n",
    "\\sigma_{rr} &= 0 \\quad \\text{at $r=b$} \\\\\n",
    "\\int_a^b \\sigma_{\\theta\\theta} \\; {\\rm d}r &= 0 \\\\\n",
    "\\int_a^b r \\sigma_{\\theta\\theta} \\; {\\rm d}r &= -M\n",
    "\\end{align}\n",
    "where $M$ is the externally applied moment. \n",
    "\n",
    "We now set up these boundary conditions as follows:"
   ]
  },
  {
   "cell_type": "code",
   "execution_count": 23,
   "metadata": {},
   "outputs": [
    {
     "data": {
      "text/latex": [
       "$\\displaystyle \\frac{A}{a^{2}} + 2 B \\log{\\left(a \\right)} + B + 2 C = 0$"
      ],
      "text/plain": [
       "Eq(A/a**2 + 2*B*log(a) + B + 2*C, 0)"
      ]
     },
     "metadata": {},
     "output_type": "display_data"
    },
    {
     "data": {
      "text/latex": [
       "$\\displaystyle \\frac{A}{b^{2}} + 2 B \\log{\\left(b \\right)} + B + 2 C = 0$"
      ],
      "text/plain": [
       "Eq(A/b**2 + 2*B*log(b) + B + 2*C, 0)"
      ]
     },
     "metadata": {},
     "output_type": "display_data"
    },
    {
     "data": {
      "text/latex": [
       "$\\displaystyle \\frac{A}{b} - \\frac{A}{a} - 2 B a \\log{\\left(a \\right)} + 2 B b \\log{\\left(b \\right)} - a \\left(B + 2 C\\right) + b \\left(B + 2 C\\right) = 0$"
      ],
      "text/plain": [
       "Eq(A/b - A/a - 2*B*a*log(a) + 2*B*b*log(b) - a*(B + 2*C) + b*(B + 2*C), 0)"
      ]
     },
     "metadata": {},
     "output_type": "display_data"
    },
    {
     "data": {
      "text/latex": [
       "$\\displaystyle A \\log{\\left(a \\right)} - A \\log{\\left(b \\right)} - B a^{2} \\log{\\left(a \\right)} + B b^{2} \\log{\\left(b \\right)} - a^{2} \\left(B + C\\right) + b^{2} \\left(B + C\\right) = - M$"
      ],
      "text/plain": [
       "Eq(A*log(a) - A*log(b) - B*a**2*log(a) + B*b**2*log(b) - a**2*(B + C) + b**2*(B + C), -M)"
      ]
     },
     "metadata": {},
     "output_type": "display_data"
    }
   ],
   "source": [
    "a, b, M = sp.symbols('a, b, M')\n",
    "\n",
    "lhs = sigmarr.subs(r,a)\n",
    "rhs = 0\n",
    "eq1 = sp.Eq(lhs,rhs)\n",
    "display(eq1)\n",
    "\n",
    "\n",
    "lhs = sigmarr.subs(r,b)\n",
    "rhs = 0\n",
    "eq2 = sp.Eq(lhs,rhs)\n",
    "display(eq2)\n",
    "\n",
    "\n",
    "lhs = sp.integrate(sigmatt,(r,a,b))\n",
    "rhs = 0\n",
    "eq3 = sp.Eq(lhs,rhs)\n",
    "display(eq3)\n",
    "\n",
    "\n",
    "lhs = sp.integrate(r*sigmatt,(r,a,b))\n",
    "rhs = -M\n",
    "eq4 = sp.Eq(lhs,rhs)\n",
    "display(eq4)"
   ]
  },
  {
   "cell_type": "markdown",
   "metadata": {},
   "source": [
    "Next, we solve for $A$, $B$, and $C$. Note that while we have only three unknowns ($D$ does not appear), we have four equations. Strictly, speaking, we should be using only three of these equations to solve for the three unknowns (one of the equations is not independent). However, operationally speaking, we don't need to worry. A naive implementation using `linsolve` using all four equations still gives us the correct solution; thus:"
   ]
  },
  {
   "cell_type": "code",
   "execution_count": 25,
   "metadata": {},
   "outputs": [
    {
     "data": {
      "text/latex": [
       "$\\displaystyle A = \\frac{4 M a^{2} b^{2} \\left(\\log{\\left(a \\right)} - \\log{\\left(b \\right)}\\right)}{a^{4} - 4 a^{2} b^{2} \\log{\\left(a \\right)}^{2} + 8 a^{2} b^{2} \\log{\\left(a \\right)} \\log{\\left(b \\right)} - 4 a^{2} b^{2} \\log{\\left(b \\right)}^{2} - 2 a^{2} b^{2} + b^{4}}$"
      ],
      "text/plain": [
       "<IPython.core.display.Math object>"
      ]
     },
     "metadata": {},
     "output_type": "display_data"
    },
    {
     "data": {
      "text/latex": [
       "$\\displaystyle B = \\frac{2 M \\left(a^{2} - b^{2}\\right)}{a^{4} - 4 a^{2} b^{2} \\log{\\left(a \\right)}^{2} + 8 a^{2} b^{2} \\log{\\left(a \\right)} \\log{\\left(b \\right)} - 4 a^{2} b^{2} \\log{\\left(b \\right)}^{2} - 2 a^{2} b^{2} + b^{4}}$"
      ],
      "text/plain": [
       "<IPython.core.display.Math object>"
      ]
     },
     "metadata": {},
     "output_type": "display_data"
    },
    {
     "data": {
      "text/latex": [
       "$\\displaystyle C = - \\frac{M \\left(2 a^{2} \\log{\\left(a \\right)} + a^{2} - 2 b^{2} \\log{\\left(b \\right)} - b^{2}\\right)}{a^{4} - 4 a^{2} b^{2} \\log{\\left(a \\right)}^{2} + 8 a^{2} b^{2} \\log{\\left(a \\right)} \\log{\\left(b \\right)} - 4 a^{2} b^{2} \\log{\\left(b \\right)}^{2} - 2 a^{2} b^{2} + b^{4}}$"
      ],
      "text/plain": [
       "<IPython.core.display.Math object>"
      ]
     },
     "metadata": {},
     "output_type": "display_data"
    }
   ],
   "source": [
    "soln, = sp.linsolve([eq1,eq2,eq3,eq4],(A,B,C))\n",
    "\n",
    "Avalue = soln[0]\n",
    "Bvalue = soln[1]\n",
    "Cvalue = soln[2]\n",
    "\n",
    "display(Math(r'A = {}'.format(sp.latex(Avalue))))\n",
    "display(Math(r'B = {}'.format(sp.latex(Bvalue))))\n",
    "display(Math(r'C = {}'.format(sp.latex(Cvalue))))"
   ]
  },
  {
   "cell_type": "markdown",
   "metadata": {},
   "source": [
    "Now that we have the values of $A$, $B$, and $C$, we can make the appropriate substitutions to find the solutions to the stress components as follows:"
   ]
  },
  {
   "cell_type": "code",
   "execution_count": 30,
   "metadata": {},
   "outputs": [
    {
     "data": {
      "text/latex": [
       "$\\displaystyle \\sigma_{rr}^{\\rm soln} = \\frac{4 M \\left(a^{2} b^{2} \\left(\\log{\\left(a \\right)} - \\log{\\left(b \\right)}\\right) + r^{2} \\left(- a^{2} \\log{\\left(a \\right)} + b^{2} \\log{\\left(b \\right)} + \\left(a^{2} - b^{2}\\right) \\log{\\left(r \\right)}\\right)\\right)}{r^{2} \\left(a^{4} - 4 a^{2} b^{2} \\log{\\left(a \\right)}^{2} + 8 a^{2} b^{2} \\log{\\left(a \\right)} \\log{\\left(b \\right)} - 4 a^{2} b^{2} \\log{\\left(b \\right)}^{2} - 2 a^{2} b^{2} + b^{4}\\right)}$"
      ],
      "text/plain": [
       "<IPython.core.display.Math object>"
      ]
     },
     "metadata": {},
     "output_type": "display_data"
    },
    {
     "data": {
      "text/latex": [
       "$\\displaystyle \\sigma_{\\theta\\theta}^{\\rm soln} = \\frac{4 M \\left(- a^{2} b^{2} \\left(\\log{\\left(a \\right)} - \\log{\\left(b \\right)}\\right) + r^{2} \\left(- a^{2} \\log{\\left(a \\right)} + a^{2} + b^{2} \\log{\\left(b \\right)} - b^{2} + \\left(a^{2} - b^{2}\\right) \\log{\\left(r \\right)}\\right)\\right)}{r^{2} \\left(a^{4} - 4 a^{2} b^{2} \\log{\\left(a \\right)}^{2} + 8 a^{2} b^{2} \\log{\\left(a \\right)} \\log{\\left(b \\right)} - 4 a^{2} b^{2} \\log{\\left(b \\right)}^{2} - 2 a^{2} b^{2} + b^{4}\\right)}$"
      ],
      "text/plain": [
       "<IPython.core.display.Math object>"
      ]
     },
     "metadata": {},
     "output_type": "display_data"
    }
   ],
   "source": [
    "sigmarr_soln = sigmarr.subs([(A,Avalue),(B,Bvalue),(C,Cvalue)]).simplify()\n",
    "sigmatt_soln = sigmatt.subs([(A,Avalue),(B,Bvalue),(C,Cvalue)]).simplify()\n",
    "\n",
    "display(Math(r'\\sigma_{{rr}}^{{\\rm soln}} = {}'.format(sp.latex(sigmarr_soln))))\n",
    "display(Math(r'\\sigma_{{\\theta\\theta}}^{{\\rm soln}} = {}'.format(sp.latex(sigmatt_soln))))"
   ]
  },
  {
   "cell_type": "markdown",
   "metadata": {},
   "source": [
    "Note even though these solutions look quite different from those given in Timoshenko and Goodier, they are exactly the same. They may be easily simplified through elementary algebraic identities. "
   ]
  }
 ],
 "metadata": {
  "hide_input": false,
  "kernelspec": {
   "display_name": "Python 3",
   "language": "python",
   "name": "python3"
  },
  "language_info": {
   "codemirror_mode": {
    "name": "ipython",
    "version": 3
   },
   "file_extension": ".py",
   "mimetype": "text/x-python",
   "name": "python",
   "nbconvert_exporter": "python",
   "pygments_lexer": "ipython3",
   "version": "3.7.3"
  },
  "varInspector": {
   "cols": {
    "lenName": 16,
    "lenType": 16,
    "lenVar": 40
   },
   "kernels_config": {
    "python": {
     "delete_cmd_postfix": "",
     "delete_cmd_prefix": "del ",
     "library": "var_list.py",
     "varRefreshCmd": "print(var_dic_list())"
    },
    "r": {
     "delete_cmd_postfix": ") ",
     "delete_cmd_prefix": "rm(",
     "library": "var_list.r",
     "varRefreshCmd": "cat(var_dic_list()) "
    }
   },
   "types_to_exclude": [
    "module",
    "function",
    "builtin_function_or_method",
    "instance",
    "_Feature"
   ],
   "window_display": false
  }
 },
 "nbformat": 4,
 "nbformat_minor": 2
}
