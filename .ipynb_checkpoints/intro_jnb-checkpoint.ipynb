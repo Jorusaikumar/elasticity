{
 "cells": [
  {
   "cell_type": "code",
   "execution_count": 1,
   "metadata": {},
   "outputs": [
    {
     "data": {
      "text/plain": [
       "4"
      ]
     },
     "execution_count": 1,
     "metadata": {},
     "output_type": "execute_result"
    }
   ],
   "source": [
    "2 + 2"
   ]
  },
  {
   "cell_type": "code",
   "execution_count": 2,
   "metadata": {},
   "outputs": [
    {
     "data": {
      "text/plain": [
       "32"
      ]
     },
     "execution_count": 2,
     "metadata": {},
     "output_type": "execute_result"
    }
   ],
   "source": [
    "4*8"
   ]
  },
  {
   "cell_type": "markdown",
   "metadata": {},
   "source": [
    "This is a Markdown cell. It allows LaTeX input also!\n",
    "\n",
    "In the next cell, we want to add $a = 2$ to $b = 3$ and then store the result in $c$."
   ]
  },
  {
   "cell_type": "code",
   "execution_count": 3,
   "metadata": {},
   "outputs": [
    {
     "data": {
      "text/plain": [
       "5"
      ]
     },
     "metadata": {},
     "output_type": "display_data"
    }
   ],
   "source": [
    "a = 2\n",
    "b = 3\n",
    "c = a + b\n",
    "display(c)"
   ]
  },
  {
   "cell_type": "code",
   "execution_count": 4,
   "metadata": {},
   "outputs": [],
   "source": [
    "import sympy as sym"
   ]
  },
  {
   "cell_type": "code",
   "execution_count": 5,
   "metadata": {},
   "outputs": [],
   "source": [
    "x, y = sym.symbols('x, y')"
   ]
  },
  {
   "cell_type": "code",
   "execution_count": 6,
   "metadata": {},
   "outputs": [
    {
     "data": {
      "text/latex": [
       "$\\displaystyle x^{2} + 2 x y + y^{2}$"
      ],
      "text/plain": [
       "x**2 + 2*x*y + y**2"
      ]
     },
     "execution_count": 6,
     "metadata": {},
     "output_type": "execute_result"
    }
   ],
   "source": [
    "((x+y)**2).expand()"
   ]
  },
  {
   "cell_type": "code",
   "execution_count": 7,
   "metadata": {},
   "outputs": [
    {
     "data": {
      "text/latex": [
       "$\\displaystyle x^{100} + 100 x^{99} y + 4950 x^{98} y^{2} + 161700 x^{97} y^{3} + 3921225 x^{96} y^{4} + 75287520 x^{95} y^{5} + 1192052400 x^{94} y^{6} + 16007560800 x^{93} y^{7} + 186087894300 x^{92} y^{8} + 1902231808400 x^{91} y^{9} + 17310309456440 x^{90} y^{10} + 141629804643600 x^{89} y^{11} + 1050421051106700 x^{88} y^{12} + 7110542499799200 x^{87} y^{13} + 44186942677323600 x^{86} y^{14} + 253338471349988640 x^{85} y^{15} + 1345860629046814650 x^{84} y^{16} + 6650134872937201800 x^{83} y^{17} + 30664510802988208300 x^{82} y^{18} + 132341572939212267400 x^{81} y^{19} + 535983370403809682970 x^{80} y^{20} + 2041841411062132125600 x^{79} y^{21} + 7332066885177656269200 x^{78} y^{22} + 24865270306254660391200 x^{77} y^{23} + 79776075565900368755100 x^{76} y^{24} + 242519269720337121015504 x^{75} y^{25} + 699574816500972464467800 x^{74} y^{26} + 1917353200780443050763600 x^{73} y^{27} + 4998813702034726525205100 x^{72} y^{28} + 12410847811948286545336800 x^{71} y^{29} + 29372339821610944823963760 x^{70} y^{30} + 66324638306863423796047200 x^{69} y^{31} + 143012501349174257560226775 x^{68} y^{32} + 294692427022540894366527900 x^{67} y^{33} + 580717429720889409486981450 x^{66} y^{34} + 1095067153187962886461165020 x^{65} y^{35} + 1977204582144932989443770175 x^{64} y^{36} + 3420029547493938143902737600 x^{63} y^{37} + 5670048986634686922786117600 x^{62} y^{38} + 9013924030034630492634340800 x^{61} y^{39} + 13746234145802811501267369720 x^{60} y^{40} + 20116440213369968050635175200 x^{59} y^{41} + 28258808871162574166368460400 x^{58} y^{42} + 38116532895986727945334202400 x^{57} y^{43} + 49378235797073715747364762200 x^{56} y^{44} + 61448471214136179596720592960 x^{55} y^{45} + 73470998190814997343905056800 x^{54} y^{46} + 84413487283064039501507937600 x^{53} y^{47} + 93206558875049876949581681100 x^{52} y^{48} + 98913082887808032681188722800 x^{51} y^{49} + 100891344545564193334812497256 x^{50} y^{50} + 98913082887808032681188722800 x^{49} y^{51} + 93206558875049876949581681100 x^{48} y^{52} + 84413487283064039501507937600 x^{47} y^{53} + 73470998190814997343905056800 x^{46} y^{54} + 61448471214136179596720592960 x^{45} y^{55} + 49378235797073715747364762200 x^{44} y^{56} + 38116532895986727945334202400 x^{43} y^{57} + 28258808871162574166368460400 x^{42} y^{58} + 20116440213369968050635175200 x^{41} y^{59} + 13746234145802811501267369720 x^{40} y^{60} + 9013924030034630492634340800 x^{39} y^{61} + 5670048986634686922786117600 x^{38} y^{62} + 3420029547493938143902737600 x^{37} y^{63} + 1977204582144932989443770175 x^{36} y^{64} + 1095067153187962886461165020 x^{35} y^{65} + 580717429720889409486981450 x^{34} y^{66} + 294692427022540894366527900 x^{33} y^{67} + 143012501349174257560226775 x^{32} y^{68} + 66324638306863423796047200 x^{31} y^{69} + 29372339821610944823963760 x^{30} y^{70} + 12410847811948286545336800 x^{29} y^{71} + 4998813702034726525205100 x^{28} y^{72} + 1917353200780443050763600 x^{27} y^{73} + 699574816500972464467800 x^{26} y^{74} + 242519269720337121015504 x^{25} y^{75} + 79776075565900368755100 x^{24} y^{76} + 24865270306254660391200 x^{23} y^{77} + 7332066885177656269200 x^{22} y^{78} + 2041841411062132125600 x^{21} y^{79} + 535983370403809682970 x^{20} y^{80} + 132341572939212267400 x^{19} y^{81} + 30664510802988208300 x^{18} y^{82} + 6650134872937201800 x^{17} y^{83} + 1345860629046814650 x^{16} y^{84} + 253338471349988640 x^{15} y^{85} + 44186942677323600 x^{14} y^{86} + 7110542499799200 x^{13} y^{87} + 1050421051106700 x^{12} y^{88} + 141629804643600 x^{11} y^{89} + 17310309456440 x^{10} y^{90} + 1902231808400 x^{9} y^{91} + 186087894300 x^{8} y^{92} + 16007560800 x^{7} y^{93} + 1192052400 x^{6} y^{94} + 75287520 x^{5} y^{95} + 3921225 x^{4} y^{96} + 161700 x^{3} y^{97} + 4950 x^{2} y^{98} + 100 x y^{99} + y^{100}$"
      ],
      "text/plain": [
       "x**100 + 100*x**99*y + 4950*x**98*y**2 + 161700*x**97*y**3 + 3921225*x**96*y**4 + 75287520*x**95*y**5 + 1192052400*x**94*y**6 + 16007560800*x**93*y**7 + 186087894300*x**92*y**8 + 1902231808400*x**91*y**9 + 17310309456440*x**90*y**10 + 141629804643600*x**89*y**11 + 1050421051106700*x**88*y**12 + 7110542499799200*x**87*y**13 + 44186942677323600*x**86*y**14 + 253338471349988640*x**85*y**15 + 1345860629046814650*x**84*y**16 + 6650134872937201800*x**83*y**17 + 30664510802988208300*x**82*y**18 + 132341572939212267400*x**81*y**19 + 535983370403809682970*x**80*y**20 + 2041841411062132125600*x**79*y**21 + 7332066885177656269200*x**78*y**22 + 24865270306254660391200*x**77*y**23 + 79776075565900368755100*x**76*y**24 + 242519269720337121015504*x**75*y**25 + 699574816500972464467800*x**74*y**26 + 1917353200780443050763600*x**73*y**27 + 4998813702034726525205100*x**72*y**28 + 12410847811948286545336800*x**71*y**29 + 29372339821610944823963760*x**70*y**30 + 66324638306863423796047200*x**69*y**31 + 143012501349174257560226775*x**68*y**32 + 294692427022540894366527900*x**67*y**33 + 580717429720889409486981450*x**66*y**34 + 1095067153187962886461165020*x**65*y**35 + 1977204582144932989443770175*x**64*y**36 + 3420029547493938143902737600*x**63*y**37 + 5670048986634686922786117600*x**62*y**38 + 9013924030034630492634340800*x**61*y**39 + 13746234145802811501267369720*x**60*y**40 + 20116440213369968050635175200*x**59*y**41 + 28258808871162574166368460400*x**58*y**42 + 38116532895986727945334202400*x**57*y**43 + 49378235797073715747364762200*x**56*y**44 + 61448471214136179596720592960*x**55*y**45 + 73470998190814997343905056800*x**54*y**46 + 84413487283064039501507937600*x**53*y**47 + 93206558875049876949581681100*x**52*y**48 + 98913082887808032681188722800*x**51*y**49 + 100891344545564193334812497256*x**50*y**50 + 98913082887808032681188722800*x**49*y**51 + 93206558875049876949581681100*x**48*y**52 + 84413487283064039501507937600*x**47*y**53 + 73470998190814997343905056800*x**46*y**54 + 61448471214136179596720592960*x**45*y**55 + 49378235797073715747364762200*x**44*y**56 + 38116532895986727945334202400*x**43*y**57 + 28258808871162574166368460400*x**42*y**58 + 20116440213369968050635175200*x**41*y**59 + 13746234145802811501267369720*x**40*y**60 + 9013924030034630492634340800*x**39*y**61 + 5670048986634686922786117600*x**38*y**62 + 3420029547493938143902737600*x**37*y**63 + 1977204582144932989443770175*x**36*y**64 + 1095067153187962886461165020*x**35*y**65 + 580717429720889409486981450*x**34*y**66 + 294692427022540894366527900*x**33*y**67 + 143012501349174257560226775*x**32*y**68 + 66324638306863423796047200*x**31*y**69 + 29372339821610944823963760*x**30*y**70 + 12410847811948286545336800*x**29*y**71 + 4998813702034726525205100*x**28*y**72 + 1917353200780443050763600*x**27*y**73 + 699574816500972464467800*x**26*y**74 + 242519269720337121015504*x**25*y**75 + 79776075565900368755100*x**24*y**76 + 24865270306254660391200*x**23*y**77 + 7332066885177656269200*x**22*y**78 + 2041841411062132125600*x**21*y**79 + 535983370403809682970*x**20*y**80 + 132341572939212267400*x**19*y**81 + 30664510802988208300*x**18*y**82 + 6650134872937201800*x**17*y**83 + 1345860629046814650*x**16*y**84 + 253338471349988640*x**15*y**85 + 44186942677323600*x**14*y**86 + 7110542499799200*x**13*y**87 + 1050421051106700*x**12*y**88 + 141629804643600*x**11*y**89 + 17310309456440*x**10*y**90 + 1902231808400*x**9*y**91 + 186087894300*x**8*y**92 + 16007560800*x**7*y**93 + 1192052400*x**6*y**94 + 75287520*x**5*y**95 + 3921225*x**4*y**96 + 161700*x**3*y**97 + 4950*x**2*y**98 + 100*x*y**99 + y**100"
      ]
     },
     "execution_count": 7,
     "metadata": {},
     "output_type": "execute_result"
    }
   ],
   "source": [
    "((x+y)**100).expand()"
   ]
  },
  {
   "cell_type": "code",
   "execution_count": 8,
   "metadata": {},
   "outputs": [
    {
     "data": {
      "text/latex": [
       "$\\displaystyle \\pi$"
      ],
      "text/plain": [
       "pi"
      ]
     },
     "execution_count": 8,
     "metadata": {},
     "output_type": "execute_result"
    }
   ],
   "source": [
    "sym.pi"
   ]
  },
  {
   "cell_type": "code",
   "execution_count": 9,
   "metadata": {},
   "outputs": [
    {
     "data": {
      "text/latex": [
       "$\\displaystyle 3.14159265358979$"
      ],
      "text/plain": [
       "3.14159265358979"
      ]
     },
     "execution_count": 9,
     "metadata": {},
     "output_type": "execute_result"
    }
   ],
   "source": [
    "sym.N(sym.pi)"
   ]
  },
  {
   "cell_type": "code",
   "execution_count": 10,
   "metadata": {},
   "outputs": [
    {
     "data": {
      "text/latex": [
       "$\\displaystyle 3.141592654$"
      ],
      "text/plain": [
       "3.141592654"
      ]
     },
     "execution_count": 10,
     "metadata": {},
     "output_type": "execute_result"
    }
   ],
   "source": [
    "sym.N(sym.pi,10)"
   ]
  },
  {
   "cell_type": "markdown",
   "metadata": {},
   "source": [
    "We now want to solve two linear, simultaneous equations:\n",
    "\\begin{align*}\n",
    "2x + 3y &= 8, \\\\\n",
    "3x + y & = 5\n",
    "\\end{align*}"
   ]
  },
  {
   "cell_type": "code",
   "execution_count": 12,
   "metadata": {},
   "outputs": [
    {
     "data": {
      "text/latex": [
       "$\\displaystyle 2 x + 3 y = 8$"
      ],
      "text/plain": [
       "Eq(2*x + 3*y, 8)"
      ]
     },
     "metadata": {},
     "output_type": "display_data"
    },
    {
     "data": {
      "text/latex": [
       "$\\displaystyle 3 x + y = 5$"
      ],
      "text/plain": [
       "Eq(3*x + y, 5)"
      ]
     },
     "metadata": {},
     "output_type": "display_data"
    }
   ],
   "source": [
    "eq1 = sym.Eq(2*x+3*y,8)\n",
    "eq2 = sym.Eq(3*x+y,5)\n",
    "display(eq1,eq2)"
   ]
  },
  {
   "cell_type": "code",
   "execution_count": 15,
   "metadata": {},
   "outputs": [
    {
     "data": {
      "text/latex": [
       "$\\displaystyle \\left( 1, \\  2\\right)$"
      ],
      "text/plain": [
       "(1, 2)"
      ]
     },
     "metadata": {},
     "output_type": "display_data"
    }
   ],
   "source": [
    "soln, = sym.linsolve([eq1,eq2],[x,y])\n",
    "display(soln)"
   ]
  },
  {
   "cell_type": "code",
   "execution_count": 16,
   "metadata": {},
   "outputs": [
    {
     "data": {
      "text/latex": [
       "$\\displaystyle 1$"
      ],
      "text/plain": [
       "1"
      ]
     },
     "metadata": {},
     "output_type": "display_data"
    },
    {
     "data": {
      "text/latex": [
       "$\\displaystyle 2$"
      ],
      "text/plain": [
       "2"
      ]
     },
     "metadata": {},
     "output_type": "display_data"
    }
   ],
   "source": [
    "xsoln = soln[0]\n",
    "ysoln = soln[1]\n",
    "display(xsoln, ysoln)"
   ]
  },
  {
   "cell_type": "code",
   "execution_count": 17,
   "metadata": {},
   "outputs": [
    {
     "data": {
      "text/latex": [
       "$\\displaystyle x = 1$"
      ],
      "text/plain": [
       "<IPython.core.display.Math object>"
      ]
     },
     "metadata": {},
     "output_type": "display_data"
    },
    {
     "data": {
      "text/latex": [
       "$\\displaystyle y = 2$"
      ],
      "text/plain": [
       "<IPython.core.display.Math object>"
      ]
     },
     "metadata": {},
     "output_type": "display_data"
    }
   ],
   "source": [
    "from IPython.display import Math, Latex\n",
    "\n",
    "display(Math(r'$x = {}$'.format(sym.latex(xsoln))))\n",
    "display(Math(r'$y = {}$'.format(sym.latex(ysoln))))"
   ]
  },
  {
   "cell_type": "code",
   "execution_count": 19,
   "metadata": {},
   "outputs": [
    {
     "data": {
      "text/latex": [
       "$\\displaystyle 2$"
      ],
      "text/plain": [
       "2"
      ]
     },
     "execution_count": 19,
     "metadata": {},
     "output_type": "execute_result"
    }
   ],
   "source": [
    "fn = x**2\n",
    "sym.diff(fn,(x,2))"
   ]
  },
  {
   "cell_type": "code",
   "execution_count": 21,
   "metadata": {},
   "outputs": [
    {
     "data": {
      "text/latex": [
       "$\\displaystyle x^{2}$"
      ],
      "text/plain": [
       "x**2"
      ]
     },
     "execution_count": 21,
     "metadata": {},
     "output_type": "execute_result"
    }
   ],
   "source": [
    "gn = x**2*y\n",
    "sym.diff(gn,y)"
   ]
  },
  {
   "cell_type": "code",
   "execution_count": 22,
   "metadata": {},
   "outputs": [],
   "source": [
    "def add(a,b):\n",
    "    return a+b"
   ]
  },
  {
   "cell_type": "code",
   "execution_count": 23,
   "metadata": {},
   "outputs": [
    {
     "data": {
      "text/plain": [
       "9"
      ]
     },
     "execution_count": 23,
     "metadata": {},
     "output_type": "execute_result"
    }
   ],
   "source": [
    "add(4,5)"
   ]
  },
  {
   "cell_type": "code",
   "execution_count": 24,
   "metadata": {},
   "outputs": [],
   "source": [
    "def laplacian(f):\n",
    "    return sym.diff(f,(x,2))+sym.diff(f,(y,2))"
   ]
  },
  {
   "cell_type": "code",
   "execution_count": 25,
   "metadata": {},
   "outputs": [
    {
     "data": {
      "text/latex": [
       "$\\displaystyle 4$"
      ],
      "text/plain": [
       "4"
      ]
     },
     "execution_count": 25,
     "metadata": {},
     "output_type": "execute_result"
    }
   ],
   "source": [
    "hn = x**2+y**2\n",
    "laplacian(hn)"
   ]
  },
  {
   "cell_type": "markdown",
   "metadata": {},
   "source": [
    "Next, we use the fact that $\\nabla^4 f = \\nabla^2 (\\nabla^2 f)$ to define the biharmonic operator using the already defined Laplacian operator. "
   ]
  },
  {
   "cell_type": "code",
   "execution_count": 26,
   "metadata": {},
   "outputs": [],
   "source": [
    "def biharmonic(f):\n",
    "    return laplacian(laplacian(f))"
   ]
  },
  {
   "cell_type": "code",
   "execution_count": 28,
   "metadata": {},
   "outputs": [
    {
     "data": {
      "text/latex": [
       "$\\displaystyle 48$"
      ],
      "text/plain": [
       "48"
      ]
     },
     "execution_count": 28,
     "metadata": {},
     "output_type": "execute_result"
    }
   ],
   "source": [
    "hn2 = x**4+y**4\n",
    "biharmonic(hn2)"
   ]
  },
  {
   "cell_type": "code",
   "execution_count": 29,
   "metadata": {},
   "outputs": [
    {
     "data": {
      "text/latex": [
       "$\\displaystyle \\phi$"
      ],
      "text/plain": [
       "phi"
      ]
     },
     "execution_count": 29,
     "metadata": {},
     "output_type": "execute_result"
    }
   ],
   "source": [
    "phi = sym.symbols('phi')\n",
    "phi"
   ]
  },
  {
   "cell_type": "code",
   "execution_count": 33,
   "metadata": {},
   "outputs": [
    {
     "data": {
      "text/latex": [
       "$\\displaystyle \\varphi{\\left(x,y \\right)}$"
      ],
      "text/plain": [
       "varphi(x, y)"
      ]
     },
     "metadata": {},
     "output_type": "display_data"
    }
   ],
   "source": [
    "varphi = sym.Function('varphi')(x,y)\n",
    "display(varphi)"
   ]
  },
  {
   "cell_type": "code",
   "execution_count": 34,
   "metadata": {},
   "outputs": [
    {
     "data": {
      "text/latex": [
       "$\\displaystyle \\frac{\\partial^{2}}{\\partial x^{2}} \\varphi{\\left(x,y \\right)} + \\frac{\\partial^{2}}{\\partial y^{2}} \\varphi{\\left(x,y \\right)}$"
      ],
      "text/plain": [
       "Derivative(varphi(x, y), (x, 2)) + Derivative(varphi(x, y), (y, 2))"
      ]
     },
     "execution_count": 34,
     "metadata": {},
     "output_type": "execute_result"
    }
   ],
   "source": [
    "laplacian(varphi)"
   ]
  },
  {
   "cell_type": "code",
   "execution_count": 35,
   "metadata": {},
   "outputs": [
    {
     "data": {
      "text/latex": [
       "$\\displaystyle \\frac{\\partial^{4}}{\\partial x^{4}} \\varphi{\\left(x,y \\right)} + \\frac{\\partial^{4}}{\\partial y^{4}} \\varphi{\\left(x,y \\right)} + 2 \\frac{\\partial^{4}}{\\partial y^{2}\\partial x^{2}} \\varphi{\\left(x,y \\right)}$"
      ],
      "text/plain": [
       "Derivative(varphi(x, y), (x, 4)) + Derivative(varphi(x, y), (y, 4)) + 2*Derivative(varphi(x, y), (x, 2), (y, 2))"
      ]
     },
     "execution_count": 35,
     "metadata": {},
     "output_type": "execute_result"
    }
   ],
   "source": [
    "biharmonic(varphi)"
   ]
  },
  {
   "cell_type": "code",
   "execution_count": 38,
   "metadata": {},
   "outputs": [
    {
     "data": {
      "text/latex": [
       "$\\displaystyle A_{20}$"
      ],
      "text/plain": [
       "A_20"
      ]
     },
     "metadata": {},
     "output_type": "display_data"
    },
    {
     "data": {
      "text/latex": [
       "$\\displaystyle A_{11}$"
      ],
      "text/plain": [
       "A_11"
      ]
     },
     "metadata": {},
     "output_type": "display_data"
    },
    {
     "data": {
      "text/latex": [
       "$\\displaystyle A_{02}$"
      ],
      "text/plain": [
       "A_02"
      ]
     },
     "metadata": {},
     "output_type": "display_data"
    }
   ],
   "source": [
    "A20, A11, A02 = sym.symbols('A_20, A_11, A_02')\n",
    "display(A20, A11, A02)"
   ]
  },
  {
   "cell_type": "code",
   "execution_count": 40,
   "metadata": {},
   "outputs": [
    {
     "data": {
      "text/latex": [
       "$\\displaystyle A_{02} y^{2} + A_{11} x y + A_{20} x^{2}$"
      ],
      "text/plain": [
       "A_02*y**2 + A_11*x*y + A_20*x**2"
      ]
     },
     "metadata": {},
     "output_type": "display_data"
    }
   ],
   "source": [
    "varphi = A20*x**2 + A11*x*y + A02*y**2\n",
    "display(varphi)"
   ]
  },
  {
   "cell_type": "markdown",
   "metadata": {},
   "source": [
    "We now obtain stress fields using:\n",
    "\n",
    "\\begin{align*}\n",
    "\\sigma_{xx} &= \\frac{\\partial^2 \\varphi}{\\partial y^2},\\\\\n",
    "\\sigma_{yy} &= \\frac{\\partial^2 \\varphi}{\\partial x^2},\\\\\n",
    "\\sigma_{xy} &= -\\frac{\\partial^2 \\varphi}{\\partial x \\partial y}\n",
    "\\end{align*}"
   ]
  },
  {
   "cell_type": "code",
   "execution_count": 41,
   "metadata": {},
   "outputs": [
    {
     "data": {
      "text/latex": [
       "$\\displaystyle 2 A_{02}$"
      ],
      "text/plain": [
       "2*A_02"
      ]
     },
     "metadata": {},
     "output_type": "display_data"
    },
    {
     "data": {
      "text/latex": [
       "$\\displaystyle 2 A_{20}$"
      ],
      "text/plain": [
       "2*A_20"
      ]
     },
     "metadata": {},
     "output_type": "display_data"
    },
    {
     "data": {
      "text/latex": [
       "$\\displaystyle - A_{11}$"
      ],
      "text/plain": [
       "-A_11"
      ]
     },
     "metadata": {},
     "output_type": "display_data"
    }
   ],
   "source": [
    "sigmaxx = sym.diff(varphi,(y,2))\n",
    "sigmayy = sym.diff(varphi,(x,2))\n",
    "sigmaxy = -sym.diff(varphi,x,y)\n",
    "display(sigmaxx, sigmayy, sigmaxy)"
   ]
  },
  {
   "cell_type": "code",
   "execution_count": 43,
   "metadata": {},
   "outputs": [
    {
     "data": {
      "text/latex": [
       "$\\displaystyle \\varphi = A_{05} y^{5} + A_{14} x y^{4} + A_{23} x^{2} y^{3} + A_{32} x^{3} y^{2} + A_{41} x^{4} y + A_{50} x^{5}$"
      ],
      "text/plain": [
       "<IPython.core.display.Math object>"
      ]
     },
     "metadata": {},
     "output_type": "display_data"
    }
   ],
   "source": [
    "A50, A41, A32, A23, A14, A05 = sym.symbols('A_50, A_41, A_32, A_23, A_14, A_05')\n",
    "varphi = A50*x**5 + A41*x**4*y + A32*x**3*y**2 + A23*x**2*y**3 + A14*x*y**4 + A05*y**5\n",
    "display(Math(r'\\varphi = {}'.format(sym.latex(varphi))))"
   ]
  },
  {
   "cell_type": "code",
   "execution_count": 45,
   "metadata": {},
   "outputs": [
    {
     "data": {
      "text/latex": [
       "$\\displaystyle 120 A_{05} y + 24 A_{14} x + 24 A_{23} y + 24 A_{32} x + 24 A_{41} y + 120 A_{50} x$"
      ],
      "text/plain": [
       "120*A_05*y + 24*A_14*x + 24*A_23*y + 24*A_32*x + 24*A_41*y + 120*A_50*x"
      ]
     },
     "execution_count": 45,
     "metadata": {},
     "output_type": "execute_result"
    }
   ],
   "source": [
    "(biharmonic(varphi)).expand()"
   ]
  },
  {
   "cell_type": "code",
   "execution_count": 46,
   "metadata": {},
   "outputs": [
    {
     "data": {
      "text/latex": [
       "$\\displaystyle 24 A_{14} + 24 A_{32} + 120 A_{50}$"
      ],
      "text/plain": [
       "24*A_14 + 24*A_32 + 120*A_50"
      ]
     },
     "execution_count": 46,
     "metadata": {},
     "output_type": "execute_result"
    }
   ],
   "source": [
    "(biharmonic(varphi)).expand().coeff(x)"
   ]
  },
  {
   "cell_type": "code",
   "execution_count": 47,
   "metadata": {},
   "outputs": [
    {
     "data": {
      "text/latex": [
       "$\\displaystyle 120 A_{05} + 24 A_{23} + 24 A_{41}$"
      ],
      "text/plain": [
       "120*A_05 + 24*A_23 + 24*A_41"
      ]
     },
     "execution_count": 47,
     "metadata": {},
     "output_type": "execute_result"
    }
   ],
   "source": [
    "(biharmonic(varphi)).expand().coeff(y)"
   ]
  },
  {
   "cell_type": "code",
   "execution_count": 48,
   "metadata": {},
   "outputs": [
    {
     "data": {
      "text/latex": [
       "$\\displaystyle \\frac{x^{2}}{2}$"
      ],
      "text/plain": [
       "x**2/2"
      ]
     },
     "execution_count": 48,
     "metadata": {},
     "output_type": "execute_result"
    }
   ],
   "source": [
    "sym.integrate(x)"
   ]
  },
  {
   "cell_type": "code",
   "execution_count": 49,
   "metadata": {},
   "outputs": [
    {
     "data": {
      "text/latex": [
       "$\\displaystyle \\frac{x^{3}}{3}$"
      ],
      "text/plain": [
       "x**3/3"
      ]
     },
     "execution_count": 49,
     "metadata": {},
     "output_type": "execute_result"
    }
   ],
   "source": [
    "sym.integrate(x**2)"
   ]
  },
  {
   "cell_type": "code",
   "execution_count": 50,
   "metadata": {},
   "outputs": [
    {
     "data": {
      "text/latex": [
       "$\\displaystyle \\frac{x^{2} y^{2}}{2}$"
      ],
      "text/plain": [
       "x**2*y**2/2"
      ]
     },
     "execution_count": 50,
     "metadata": {},
     "output_type": "execute_result"
    }
   ],
   "source": [
    "sym.integrate(x**2*y, y)"
   ]
  },
  {
   "cell_type": "code",
   "execution_count": 61,
   "metadata": {},
   "outputs": [],
   "source": [
    "x, y = sym.symbols('x, y')"
   ]
  },
  {
   "cell_type": "code",
   "execution_count": 62,
   "metadata": {},
   "outputs": [
    {
     "data": {
      "text/latex": [
       "$\\displaystyle p_\\mathrm{in}$"
      ],
      "text/plain": [
       "p_\\mathrm{in}"
      ]
     },
     "metadata": {},
     "output_type": "display_data"
    },
    {
     "data": {
      "text/latex": [
       "$\\displaystyle p_\\mathrm{out}$"
      ],
      "text/plain": [
       "p_\\mathrm{out}"
      ]
     },
     "metadata": {},
     "output_type": "display_data"
    }
   ],
   "source": [
    "pin, pout = sym.symbols(r'p_\\mathrm{in}, p_\\mathrm{out}')\n",
    "display(pin, pout)"
   ]
  },
  {
   "cell_type": "code",
   "execution_count": null,
   "metadata": {},
   "outputs": [],
   "source": []
  }
 ],
 "metadata": {
  "kernelspec": {
   "display_name": "Python 3",
   "language": "python",
   "name": "python3"
  },
  "language_info": {
   "codemirror_mode": {
    "name": "ipython",
    "version": 3
   },
   "file_extension": ".py",
   "mimetype": "text/x-python",
   "name": "python",
   "nbconvert_exporter": "python",
   "pygments_lexer": "ipython3",
   "version": "3.8.3"
  }
 },
 "nbformat": 4,
 "nbformat_minor": 4
}
