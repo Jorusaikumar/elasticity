{
 "cells": [
  {
   "cell_type": "markdown",
   "metadata": {},
   "source": [
    "# Pure Bending of a Curved Bar\n",
    "\n",
    "In the first file, we had considered the problem of the thick-walled pressure vessel. The solution to the stress field was found by considering a $\\theta$-independent Airy stress function. \n",
    "\n",
    "In this file, we are going to consider the problem of the pure bending of a curved bar. And, again we are going to consider a $\\theta$-independent Airy stress function. \n",
    "\n",
    "Before proceeding, however, note an important difference with the first file. In that first file, before going on to the actual problem of the thick-walled pressure vessel, we had written a bunch of definitions to obtain the form of the biharmonic equation in polar coordinates as well as to determine the stress components in polar coordinates through appropriate transformations of the stress fields in the rectangular Cartesian coordinate system. In this file, we do not go into writing all those definitions again. Instead, we copy all those definitions in a separate python file `polarUtilites.py` and store the file in the same folder. So, before proceeding, in order to make those definitions available for the current problem solution, we first need to import that file:"
   ]
  },
  {
   "cell_type": "code",
   "execution_count": 1,
   "metadata": {},
   "outputs": [],
   "source": [
    "from polarUtilities import *"
   ]
  },
  {
   "cell_type": "markdown",
   "metadata": {},
   "source": [
    "We now set the Airy stress function to be $\\theta$-independent:"
   ]
  },
  {
   "cell_type": "code",
   "execution_count": 2,
   "metadata": {},
   "outputs": [
    {
     "data": {
      "text/latex": [
       "$\\displaystyle \\phi{\\left(r \\right)}$"
      ],
      "text/plain": [
       "phi(r)"
      ]
     },
     "execution_count": 2,
     "metadata": {},
     "output_type": "execute_result"
    }
   ],
   "source": [
    "phi = sp.Function('phi')(r)\n",
    "phi"
   ]
  },
  {
   "cell_type": "markdown",
   "metadata": {},
   "source": [
    "We now solve the biharmonic equation $\\nabla^4 \\phi = 0$ as follows:"
   ]
  },
  {
   "cell_type": "code",
   "execution_count": 3,
   "metadata": {},
   "outputs": [
    {
     "data": {
      "text/latex": [
       "$\\displaystyle \\phi{\\left(r \\right)} = C_{1} + C_{2} r^{2} + C_{3} r^{2} \\log{\\left(r \\right)} + C_{4} \\log{\\left(r \\right)}$"
      ],
      "text/plain": [
       "Eq(phi(r), C1 + C2*r**2 + C3*r**2*log(r) + C4*log(r))"
      ]
     },
     "execution_count": 3,
     "metadata": {},
     "output_type": "execute_result"
    }
   ],
   "source": [
    "sp.dsolve(polarbiharmonic(phi))"
   ]
  },
  {
   "cell_type": "markdown",
   "metadata": {},
   "source": [
    "This solution is, of course, the same solution that we had obtained in the first file. However, in order to have the same notation as in Timoshenko and Goodier, we rewrite $\\phi$ as follows:"
   ]
  },
  {
   "cell_type": "code",
   "execution_count": 4,
   "metadata": {},
   "outputs": [
    {
     "data": {
      "text/latex": [
       "$\\displaystyle A \\log{\\left(r \\right)} + B r^{2} \\log{\\left(r \\right)} + C r^{2} + D$"
      ],
      "text/plain": [
       "A*log(r) + B*r**2*log(r) + C*r**2 + D"
      ]
     },
     "execution_count": 4,
     "metadata": {},
     "output_type": "execute_result"
    }
   ],
   "source": [
    "A, B, C, D = sp.symbols('A, B, C, D')\n",
    "\n",
    "phi = A*sp.log(r)+B*r**2*sp.log(r)+C*r**2+D\n",
    "phi"
   ]
  },
  {
   "cell_type": "markdown",
   "metadata": {},
   "source": [
    "We again use a better way to display the variables as follows:"
   ]
  },
  {
   "cell_type": "code",
   "execution_count": 5,
   "metadata": {},
   "outputs": [],
   "source": [
    "from IPython.display import Math, Latex"
   ]
  },
  {
   "cell_type": "code",
   "execution_count": 6,
   "metadata": {},
   "outputs": [
    {
     "data": {
      "text/latex": [
       "$\\displaystyle \\phi = A \\log{\\left(r \\right)} + B r^{2} \\log{\\left(r \\right)} + C r^{2} + D$"
      ],
      "text/plain": [
       "<IPython.core.display.Math object>"
      ]
     },
     "metadata": {},
     "output_type": "display_data"
    }
   ],
   "source": [
    "display(Math(r'\\phi = {}'.format(sp.latex(phi))))"
   ]
  },
  {
   "cell_type": "markdown",
   "metadata": {},
   "source": [
    "We can now obtain the expressions of the stress components $\\sigma_{rr}$, $\\sigma_{\\theta\\theta}$, and $\\sigma_{r\\theta}$:"
   ]
  },
  {
   "cell_type": "code",
   "execution_count": 7,
   "metadata": {},
   "outputs": [
    {
     "data": {
      "text/latex": [
       "$\\displaystyle \\sigma_{rr} = \\frac{A}{r^{2}} + 2 B \\log{\\left(r \\right)} + B + 2 C$"
      ],
      "text/plain": [
       "<IPython.core.display.Math object>"
      ]
     },
     "metadata": {},
     "output_type": "display_data"
    },
    {
     "data": {
      "text/latex": [
       "$\\displaystyle \\sigma_{\\theta\\theta} = - \\frac{A}{r^{2}} + 2 B \\log{\\left(r \\right)} + 3 B + 2 C$"
      ],
      "text/plain": [
       "<IPython.core.display.Math object>"
      ]
     },
     "metadata": {},
     "output_type": "display_data"
    },
    {
     "data": {
      "text/latex": [
       "$\\displaystyle \\sigma_{r\\theta} = 0$"
      ],
      "text/plain": [
       "<IPython.core.display.Math object>"
      ]
     },
     "metadata": {},
     "output_type": "display_data"
    }
   ],
   "source": [
    "sigmarr = sigma_rr(phi)\n",
    "sigmatt = sigma_tt(phi)\n",
    "sigmart = sigma_rt(phi)\n",
    "\n",
    "display(Math(r'\\sigma_{{rr}} = {}'.format(sp.latex(sigmarr))))\n",
    "display(Math(r'\\sigma_{{\\theta\\theta}} = {}'.format(sp.latex(sigmatt))))\n",
    "display(Math(r'\\sigma_{{r\\theta}} = {}'.format(sp.latex(sigmart))))"
   ]
  },
  {
   "cell_type": "markdown",
   "metadata": {},
   "source": [
    "We note that up to this point there is no difference with the first file. However, we need to solve for $A$, $B$, $C$, and $D$ subject to the boundary conditions appropriate for this problem, which are:\n",
    "\n",
    "\\begin{align}\n",
    "\\sigma_{rr} &= 0 \\quad \\text{at $r=a$} \\\\\n",
    "\\sigma_{rr} &= 0 \\quad \\text{at $r=b$} \\\\\n",
    "\\int_a^b \\sigma_{\\theta\\theta} \\; {\\rm d}r &= 0 \\\\\n",
    "\\int_a^b r \\sigma_{\\theta\\theta} \\; {\\rm d}r &= -M\n",
    "\\end{align}\n",
    "where $M$ is the externally applied moment. \n",
    "\n",
    "We now set up these boundary conditions as follows:"
   ]
  },
  {
   "cell_type": "code",
   "execution_count": 8,
   "metadata": {},
   "outputs": [
    {
     "data": {
      "text/latex": [
       "$\\displaystyle \\frac{A}{a^{2}} + 2 B \\log{\\left(a \\right)} + B + 2 C = 0$"
      ],
      "text/plain": [
       "Eq(A/a**2 + 2*B*log(a) + B + 2*C, 0)"
      ]
     },
     "metadata": {},
     "output_type": "display_data"
    },
    {
     "data": {
      "text/latex": [
       "$\\displaystyle \\frac{A}{b^{2}} + 2 B \\log{\\left(b \\right)} + B + 2 C = 0$"
      ],
      "text/plain": [
       "Eq(A/b**2 + 2*B*log(b) + B + 2*C, 0)"
      ]
     },
     "metadata": {},
     "output_type": "display_data"
    },
    {
     "data": {
      "text/latex": [
       "$\\displaystyle \\frac{A}{b} - \\frac{A}{a} - 2 B a \\log{\\left(a \\right)} + 2 B b \\log{\\left(b \\right)} - a \\left(B + 2 C\\right) + b \\left(B + 2 C\\right) = 0$"
      ],
      "text/plain": [
       "Eq(A/b - A/a - 2*B*a*log(a) + 2*B*b*log(b) - a*(B + 2*C) + b*(B + 2*C), 0)"
      ]
     },
     "metadata": {},
     "output_type": "display_data"
    },
    {
     "data": {
      "text/latex": [
       "$\\displaystyle A \\log{\\left(a \\right)} - A \\log{\\left(b \\right)} - B a^{2} \\log{\\left(a \\right)} + B b^{2} \\log{\\left(b \\right)} - a^{2} \\left(B + C\\right) + b^{2} \\left(B + C\\right) = - M$"
      ],
      "text/plain": [
       "Eq(A*log(a) - A*log(b) - B*a**2*log(a) + B*b**2*log(b) - a**2*(B + C) + b**2*(B + C), -M)"
      ]
     },
     "metadata": {},
     "output_type": "display_data"
    }
   ],
   "source": [
    "a, b, M = sp.symbols('a, b, M')\n",
    "\n",
    "lhs = sigmarr.subs(r,a)\n",
    "rhs = 0\n",
    "eq1 = sp.Eq(lhs,rhs)\n",
    "display(eq1)\n",
    "\n",
    "\n",
    "lhs = sigmarr.subs(r,b)\n",
    "rhs = 0\n",
    "eq2 = sp.Eq(lhs,rhs)\n",
    "display(eq2)\n",
    "\n",
    "\n",
    "lhs = sp.integrate(sigmatt,(r,a,b))\n",
    "rhs = 0\n",
    "eq3 = sp.Eq(lhs,rhs)\n",
    "display(eq3)\n",
    "\n",
    "\n",
    "lhs = sp.integrate(r*sigmatt,(r,a,b))\n",
    "rhs = -M\n",
    "eq4 = sp.Eq(lhs,rhs)\n",
    "display(eq4)"
   ]
  },
  {
   "cell_type": "markdown",
   "metadata": {},
   "source": [
    "Next, we solve for $A$, $B$, and $C$. Note that while we have only three unknowns ($D$ does not appear), we have four equations. Strictly, speaking, we should be using only three of these equations to solve for the three unknowns (one of the equations is not independent). However, operationally speaking, we don't need to worry. A naive implementation using `linsolve` using all four equations still gives us the correct solution; thus:"
   ]
  },
  {
   "cell_type": "code",
   "execution_count": 9,
   "metadata": {},
   "outputs": [
    {
     "data": {
      "text/latex": [
       "$\\displaystyle A = \\frac{4 M a^{2} b^{2} \\left(\\log{\\left(a \\right)} - \\log{\\left(b \\right)}\\right)}{a^{4} - 4 a^{2} b^{2} \\log{\\left(a \\right)}^{2} + 8 a^{2} b^{2} \\log{\\left(a \\right)} \\log{\\left(b \\right)} - 4 a^{2} b^{2} \\log{\\left(b \\right)}^{2} - 2 a^{2} b^{2} + b^{4}}$"
      ],
      "text/plain": [
       "<IPython.core.display.Math object>"
      ]
     },
     "metadata": {},
     "output_type": "display_data"
    },
    {
     "data": {
      "text/latex": [
       "$\\displaystyle B = \\frac{2 M \\left(a^{2} - b^{2}\\right)}{a^{4} - 4 a^{2} b^{2} \\log{\\left(a \\right)}^{2} + 8 a^{2} b^{2} \\log{\\left(a \\right)} \\log{\\left(b \\right)} - 4 a^{2} b^{2} \\log{\\left(b \\right)}^{2} - 2 a^{2} b^{2} + b^{4}}$"
      ],
      "text/plain": [
       "<IPython.core.display.Math object>"
      ]
     },
     "metadata": {},
     "output_type": "display_data"
    },
    {
     "data": {
      "text/latex": [
       "$\\displaystyle C = - \\frac{M \\left(2 a^{2} \\log{\\left(a \\right)} + a^{2} - 2 b^{2} \\log{\\left(b \\right)} - b^{2}\\right)}{a^{4} - 4 a^{2} b^{2} \\log{\\left(a \\right)}^{2} + 8 a^{2} b^{2} \\log{\\left(a \\right)} \\log{\\left(b \\right)} - 4 a^{2} b^{2} \\log{\\left(b \\right)}^{2} - 2 a^{2} b^{2} + b^{4}}$"
      ],
      "text/plain": [
       "<IPython.core.display.Math object>"
      ]
     },
     "metadata": {},
     "output_type": "display_data"
    }
   ],
   "source": [
    "soln, = sp.linsolve([eq1,eq2,eq3,eq4],(A,B,C))\n",
    "\n",
    "Avalue = soln[0]\n",
    "Bvalue = soln[1]\n",
    "Cvalue = soln[2]\n",
    "\n",
    "display(Math(r'A = {}'.format(sp.latex(Avalue))))\n",
    "display(Math(r'B = {}'.format(sp.latex(Bvalue))))\n",
    "display(Math(r'C = {}'.format(sp.latex(Cvalue))))"
   ]
  },
  {
   "cell_type": "markdown",
   "metadata": {},
   "source": [
    "Now that we have the values of $A$, $B$, and $C$, we can make the appropriate substitutions to find the solutions to the stress components as follows:"
   ]
  },
  {
   "cell_type": "code",
   "execution_count": 10,
   "metadata": {},
   "outputs": [
    {
     "data": {
      "text/latex": [
       "$\\displaystyle \\sigma_{rr}^{\\rm soln} = \\frac{4 M \\left(a^{2} b^{2} \\left(\\log{\\left(a \\right)} - \\log{\\left(b \\right)}\\right) + r^{2} \\left(- a^{2} \\log{\\left(a \\right)} + b^{2} \\log{\\left(b \\right)} + \\left(a^{2} - b^{2}\\right) \\log{\\left(r \\right)}\\right)\\right)}{r^{2} \\left(a^{4} - 4 a^{2} b^{2} \\log{\\left(a \\right)}^{2} + 8 a^{2} b^{2} \\log{\\left(a \\right)} \\log{\\left(b \\right)} - 4 a^{2} b^{2} \\log{\\left(b \\right)}^{2} - 2 a^{2} b^{2} + b^{4}\\right)}$"
      ],
      "text/plain": [
       "<IPython.core.display.Math object>"
      ]
     },
     "metadata": {},
     "output_type": "display_data"
    },
    {
     "data": {
      "text/latex": [
       "$\\displaystyle \\sigma_{\\theta\\theta}^{\\rm soln} = \\frac{4 M \\left(- a^{2} b^{2} \\left(\\log{\\left(a \\right)} - \\log{\\left(b \\right)}\\right) + r^{2} \\left(- a^{2} \\log{\\left(a \\right)} + a^{2} + b^{2} \\log{\\left(b \\right)} - b^{2} + \\left(a^{2} - b^{2}\\right) \\log{\\left(r \\right)}\\right)\\right)}{r^{2} \\left(a^{4} - 4 a^{2} b^{2} \\log{\\left(a \\right)}^{2} + 8 a^{2} b^{2} \\log{\\left(a \\right)} \\log{\\left(b \\right)} - 4 a^{2} b^{2} \\log{\\left(b \\right)}^{2} - 2 a^{2} b^{2} + b^{4}\\right)}$"
      ],
      "text/plain": [
       "<IPython.core.display.Math object>"
      ]
     },
     "metadata": {},
     "output_type": "display_data"
    }
   ],
   "source": [
    "sigmarr_soln = sigmarr.subs([(A,Avalue),(B,Bvalue),(C,Cvalue)]).simplify()\n",
    "sigmatt_soln = sigmatt.subs([(A,Avalue),(B,Bvalue),(C,Cvalue)]).simplify()\n",
    "\n",
    "display(Math(r'\\sigma_{{rr}}^{{\\rm soln}} = {}'.format(sp.latex(sigmarr_soln))))\n",
    "display(Math(r'\\sigma_{{\\theta\\theta}}^{{\\rm soln}} = {}'.format(sp.latex(sigmatt_soln))))"
   ]
  },
  {
   "cell_type": "markdown",
   "metadata": {},
   "source": [
    "Note even though these solutions look quite different from those given in Timoshenko and Goodier, they are exactly the same. They may be easily simplified through elementary algebraic identities. "
   ]
  },
  {
   "cell_type": "markdown",
   "metadata": {},
   "source": [
    "Next, we will find out the displacements corresponding to the stress fields. For this, we will first find out the strains using the generalized Hooke's law (linear, elastic, isotropic material behaviour), and then find the displacements using the strain-displacement relations. \n",
    "\n",
    "For the application of the Hooke's law, we use the `sigmarr` and `sigmatt` variables instead of the `sigmarr_soln` and `sigmatt_soln` variables because the expressions of the former pair of variables contain $A$, $B$, and $C$ without their actual values substituted. Thus, we have:"
   ]
  },
  {
   "cell_type": "code",
   "execution_count": 12,
   "metadata": {},
   "outputs": [],
   "source": [
    "E, nu = sp.symbols('E, nu')\n",
    "\n",
    "ep_rr_stress = 1/E*(sigmarr - nu*sigmatt)\n",
    "ep_tt_stress = 1/E*(sigmatt - nu*sigmarr)\n",
    "ep_rt_stress = (1+nu)/E*sigmart"
   ]
  },
  {
   "cell_type": "code",
   "execution_count": 28,
   "metadata": {},
   "outputs": [
    {
     "data": {
      "text/latex": [
       "$\\displaystyle \\varepsilon_{r\\theta} = \\frac{\\frac{A}{r^{2}} + 2 B \\log{\\left(r \\right)} + B + 2 C - \\nu \\left(- \\frac{A}{r^{2}} + 2 B \\log{\\left(r \\right)} + 3 B + 2 C\\right)}{E}$"
      ],
      "text/plain": [
       "<IPython.core.display.Math object>"
      ]
     },
     "metadata": {},
     "output_type": "display_data"
    },
    {
     "data": {
      "text/latex": [
       "$\\displaystyle \\varepsilon_{\\theta\\theta} = \\frac{- \\frac{A}{r^{2}} + 2 B \\log{\\left(r \\right)} + 3 B + 2 C - \\nu \\left(\\frac{A}{r^{2}} + 2 B \\log{\\left(r \\right)} + B + 2 C\\right)}{E}$"
      ],
      "text/plain": [
       "<IPython.core.display.Math object>"
      ]
     },
     "metadata": {},
     "output_type": "display_data"
    },
    {
     "data": {
      "text/latex": [
       "$\\displaystyle \\varepsilon_{r\\theta} = 0$"
      ],
      "text/plain": [
       "<IPython.core.display.Math object>"
      ]
     },
     "metadata": {},
     "output_type": "display_data"
    }
   ],
   "source": [
    "display(Math(r'\\varepsilon_{{r\\theta}} = {}'.format(sp.latex(ep_rr_stress))))\n",
    "display(Math(r'\\varepsilon_{{\\theta\\theta}} = {}'.format(sp.latex(ep_tt_stress))))\n",
    "display(Math(r'\\varepsilon_{{r\\theta}} = {}'.format(sp.latex(ep_rt_stress))))"
   ]
  },
  {
   "cell_type": "markdown",
   "metadata": {},
   "source": [
    "The strain-displacement relations in polar coordinates are:\n",
    "\n",
    "\\begin{align*}\n",
    "\\varepsilon_{rr} &= \\frac{\\partial u}{\\partial r}, \\\\\n",
    "\\varepsilon_{\\theta\\theta} &= \\frac{1}{r} \\frac{\\partial v}{\\partial \\theta} + \\frac{u}{r}, \\\\\n",
    "\\varepsilon_{r\\theta} &= \\frac{1}{2} \\left( \\frac{\\partial v}{\\partial r} - \\frac{v}{r} + \\frac{1}{r}\\frac{\\partial u}{\\partial \\theta} \\right),\n",
    "\\end{align*}\n",
    "where $u(r, \\theta)$ and $v(r,\\theta)$ are the displacement field variables along the radial and the azimuthal directions, respectively. Note that each of them is a function of both $r$ and $\\theta$.\n",
    "\n",
    "We first consider the first of the strain-displacement relations involving $\\varepsilon_{rr}$, to determine the form of $u(r,\\theta)$:"
   ]
  },
  {
   "cell_type": "code",
   "execution_count": 29,
   "metadata": {},
   "outputs": [
    {
     "data": {
      "text/latex": [
       "$\\displaystyle u{\\left(r,\\theta \\right)} = \\frac{- A \\nu - A - 2 B r^{2} \\left(\\nu - 1\\right) \\log{\\left(r \\right)} + E r \\operatorname{f_{1}}{\\left(- \\theta \\right)} + r^{2} \\left(- B \\nu - B - 2 C \\nu + 2 C\\right)}{E r}$"
      ],
      "text/plain": [
       "Eq(u(r, theta), (-A*nu - A - 2*B*r**2*(nu - 1)*log(r) + E*r*f_1(-theta) + r**2*(-B*nu - B - 2*C*nu + 2*C))/(E*r))"
      ]
     },
     "execution_count": 29,
     "metadata": {},
     "output_type": "execute_result"
    }
   ],
   "source": [
    "u = sp.Function('u')(r,theta)\n",
    "lhs = sp.diff(u,r)\n",
    "rhs = ep_rr_stress\n",
    "eq1 = sp.Eq(lhs,rhs)\n",
    "f1 = sp.Function('f_1')\n",
    "sol = sp.pdsolve(eq1,solvefun=f1)\n",
    "sol"
   ]
  },
  {
   "cell_type": "markdown",
   "metadata": {},
   "source": [
    "We rewrite the expression on the right hand side of this solution in a slightly more convenient form and assign it to the variable `u_interim`:"
   ]
  },
  {
   "cell_type": "code",
   "execution_count": 16,
   "metadata": {},
   "outputs": [
    {
     "data": {
      "text/latex": [
       "$\\displaystyle A \\left(- \\frac{\\nu}{E r} - \\frac{1}{E r}\\right) + B \\left(- \\frac{2 \\nu r \\log{\\left(r \\right)}}{E} - \\frac{\\nu r}{E} + \\frac{2 r \\log{\\left(r \\right)}}{E} - \\frac{r}{E}\\right) + C \\left(- \\frac{2 \\nu r}{E} + \\frac{2 r}{E}\\right) + \\operatorname{f_{1}}{\\left(- \\theta \\right)}$"
      ],
      "text/plain": [
       "A*(-nu/(E*r) - 1/(E*r)) + B*(-2*nu*r*log(r)/E - nu*r/E + 2*r*log(r)/E - r/E) + C*(-2*nu*r/E + 2*r/E) + f_1(-theta)"
      ]
     },
     "execution_count": 16,
     "metadata": {},
     "output_type": "execute_result"
    }
   ],
   "source": [
    "u_interim = sol.rhs.expand().collect(A).collect(B).collect(C)\n",
    "u_interim "
   ]
  },
  {
   "cell_type": "markdown",
   "metadata": {},
   "source": [
    "We next consider the second of the strain-displacement relations involving $\\varepsilon_{\\theta\\theta}$ to determine the form of $v(r,\\theta)$. Note that we make use of the just-determined form of $u(r,\\theta)$ (stored in the variable `u_interim`) to determine $v(r,theta)$. We store the solution in the variable `v_interim`:"
   ]
  },
  {
   "cell_type": "code",
   "execution_count": 18,
   "metadata": {},
   "outputs": [
    {
     "data": {
      "text/latex": [
       "$\\displaystyle \\frac{4 B r \\theta}{E} + \\operatorname{f_{2}}{\\left(r \\right)} - \\int\\limits^{\\theta} \\operatorname{f_{1}}{\\left(- \\xi \\right)}\\, d\\xi$"
      ],
      "text/plain": [
       "4*B*r*theta/E + f_2(r) - Integral(f_1(-xi), (xi, theta))"
      ]
     },
     "execution_count": 18,
     "metadata": {},
     "output_type": "execute_result"
    }
   ],
   "source": [
    "v = sp.Function('v')(r,theta)\n",
    "lhs = sp.diff(v,theta)\n",
    "rhs = r*ep_tt_stress - u_interim\n",
    "f2 = sp.Function('f_2')\n",
    "eq2 = sp.Eq(lhs,rhs)\n",
    "sol = sp.pdsolve(eq2,solvefun=f2)\n",
    "v_interim = sol.rhs\n",
    "v_interim"
   ]
  },
  {
   "cell_type": "markdown",
   "metadata": {},
   "source": [
    "Finally, we substitute the forms of $u(r,\\theta)$ and $v(r,\\theta)$ (stored, respectively, in `u_interim` and `v_interim`) in the final strain-displacement relation involving $\\varepsilon_{r\\theta}$ to obtain an equation involving both the unknown functions $f_1(\\theta)$ and $f_2(r)$:"
   ]
  },
  {
   "cell_type": "code",
   "execution_count": 32,
   "metadata": {},
   "outputs": [
    {
     "data": {
      "text/latex": [
       "$\\displaystyle \\frac{4 B \\theta}{E} + \\frac{d}{d r} \\operatorname{f_{2}}{\\left(r \\right)} - \\frac{\\frac{4 B r \\theta}{E} + \\operatorname{f_{2}}{\\left(r \\right)} - \\int\\limits^{\\theta} \\operatorname{f_{1}}{\\left(- \\xi \\right)}\\, d\\xi}{r} - \\frac{\\left. \\frac{d}{d \\xi_{1}} \\operatorname{f_{1}}{\\left(\\xi_{1} \\right)} \\right|_{\\substack{ \\xi_{1}=- \\theta }}}{r} = 0$"
      ],
      "text/plain": [
       "Eq(4*B*theta/E + Derivative(f_2(r), r) - (4*B*r*theta/E + f_2(r) - Integral(f_1(-xi), (xi, theta)))/r - Subs(Derivative(f_1(_xi_1), _xi_1), _xi_1, -theta)/r, 0)"
      ]
     },
     "execution_count": 32,
     "metadata": {},
     "output_type": "execute_result"
    }
   ],
   "source": [
    "lhs = (sp.diff(v_interim,r) - v_interim/r + 1/r*sp.diff(u_interim,theta))\n",
    "rhs = 0\n",
    "eq = sp.Eq(lhs,rhs)\n",
    "eq"
   ]
  },
  {
   "cell_type": "markdown",
   "metadata": {},
   "source": [
    "We simplify the expression on the left hand side a bit:"
   ]
  },
  {
   "cell_type": "code",
   "execution_count": 34,
   "metadata": {},
   "outputs": [
    {
     "data": {
      "text/latex": [
       "$\\displaystyle \\frac{d}{d r} \\operatorname{f_{2}}{\\left(r \\right)} - \\frac{\\operatorname{f_{2}}{\\left(r \\right)}}{r} + \\frac{\\int\\limits^{\\theta} \\operatorname{f_{1}}{\\left(- \\xi \\right)}\\, d\\xi}{r} - \\frac{\\left. \\frac{d}{d \\xi_{1}} \\operatorname{f_{1}}{\\left(\\xi_{1} \\right)} \\right|_{\\substack{ \\xi_{1}=- \\theta }}}{r} = 0$"
      ],
      "text/plain": [
       "Eq(Derivative(f_2(r), r) - f_2(r)/r + Integral(f_1(-xi), (xi, theta))/r - Subs(Derivative(f_1(_xi_1), _xi_1), _xi_1, -theta)/r, 0)"
      ]
     },
     "metadata": {},
     "output_type": "display_data"
    }
   ],
   "source": [
    "eq.lhs.expand()\n",
    "display(sp.Eq(eq.lhs.expand(),0))"
   ]
  },
  {
   "cell_type": "markdown",
   "metadata": {},
   "source": [
    "From this equation we extract the following two ordinary differential equations:\n",
    "\n",
    "\\begin{align*}\n",
    "\\int f_1 \\; d \\theta + \\frac{d f_1}{d \\xi} &= 0, \\\\\n",
    "\\frac{d f_2}{d r} - \\frac{f_2}{r} &= 0\n",
    "\\end{align*}"
   ]
  },
  {
   "cell_type": "markdown",
   "metadata": {},
   "source": [
    "The second equation is easier, and we consider it first. We replace $f_2$ by $f_r$. The solution to this equation is given by"
   ]
  },
  {
   "cell_type": "code",
   "execution_count": 41,
   "metadata": {},
   "outputs": [
    {
     "data": {
      "text/latex": [
       "$\\displaystyle \\operatorname{f_{r}}{\\left(r \\right)} = C_{1} r$"
      ],
      "text/plain": [
       "Eq(f_r(r), C1*r)"
      ]
     },
     "execution_count": 41,
     "metadata": {},
     "output_type": "execute_result"
    }
   ],
   "source": [
    "fr = sp.Function('f_r')(r)\n",
    "lhs = sp.diff(fr,r)\n",
    "rhs = fr/r\n",
    "eq = sp.Eq(lhs,rhs)\n",
    "sol = sp.dsolve(eq)\n",
    "sol"
   ]
  },
  {
   "cell_type": "markdown",
   "metadata": {},
   "source": [
    "To maintain the same notation as in Timoshenko and Goodier, we use $F$ instead of $C_1$; thus:"
   ]
  },
  {
   "cell_type": "code",
   "execution_count": 43,
   "metadata": {},
   "outputs": [
    {
     "data": {
      "text/latex": [
       "$\\displaystyle F r$"
      ],
      "text/plain": [
       "F*r"
      ]
     },
     "execution_count": 43,
     "metadata": {},
     "output_type": "execute_result"
    }
   ],
   "source": [
    "F = sp.symbols('F')\n",
    "fr = F*r\n",
    "fr"
   ]
  },
  {
   "cell_type": "markdown",
   "metadata": {},
   "source": [
    "Next, we consider the first ordinary differential equation. We replace $f_1$ by $f_t$. This is an integro-differential equation and in order to solve it, we first differentiate it with respect to $\\theta$ to obtain the following form:\n",
    "\n",
    "\\begin{gather*}\n",
    "f_t + \\frac{d^2 f_t}{d \\theta^2} = 0\n",
    "\\end{gather*}\n",
    "\n",
    "The solution to this equation is given by"
   ]
  },
  {
   "cell_type": "code",
   "execution_count": 45,
   "metadata": {},
   "outputs": [
    {
     "data": {
      "text/latex": [
       "$\\displaystyle \\operatorname{f_{t}}{\\left(\\theta \\right)} = C_{1} \\sin{\\left(\\theta \\right)} + C_{2} \\cos{\\left(\\theta \\right)}$"
      ],
      "text/plain": [
       "Eq(f_t(theta), C1*sin(theta) + C2*cos(theta))"
      ]
     },
     "execution_count": 45,
     "metadata": {},
     "output_type": "execute_result"
    }
   ],
   "source": [
    "ft = sp.Function('f_t')(theta)\n",
    "lhs = ft + sp.diff(ft,theta,2)\n",
    "rhs = 0\n",
    "eq = sp.Eq(lhs,rhs)\n",
    "sol = sp.dsolve(eq)\n",
    "sol"
   ]
  },
  {
   "cell_type": "markdown",
   "metadata": {},
   "source": [
    "Again, we use $H$ and $K$ instead of $C_1$ and $C_2$, respectively to maintain the same notation as in Timoshenko and Gooider; thus:"
   ]
  },
  {
   "cell_type": "code",
   "execution_count": 48,
   "metadata": {},
   "outputs": [
    {
     "data": {
      "text/latex": [
       "$\\displaystyle H \\sin{\\left(\\theta \\right)} + K \\cos{\\left(\\theta \\right)}$"
      ],
      "text/plain": [
       "H*sin(theta) + K*cos(theta)"
      ]
     },
     "execution_count": 48,
     "metadata": {},
     "output_type": "execute_result"
    }
   ],
   "source": [
    "H, K = sp.symbols('H, K')\n",
    "ft = H*sp.sin(theta) + K*sp.cos(theta)\n",
    "ft"
   ]
  },
  {
   "cell_type": "markdown",
   "metadata": {},
   "source": [
    "The expression of $u(r,\\theta)$ then becomes:"
   ]
  },
  {
   "cell_type": "code",
   "execution_count": 49,
   "metadata": {},
   "outputs": [
    {
     "data": {
      "text/latex": [
       "$\\displaystyle A \\left(- \\frac{\\nu}{E r} - \\frac{1}{E r}\\right) + B \\left(- \\frac{2 \\nu r \\log{\\left(r \\right)}}{E} - \\frac{\\nu r}{E} + \\frac{2 r \\log{\\left(r \\right)}}{E} - \\frac{r}{E}\\right) + C \\left(- \\frac{2 \\nu r}{E} + \\frac{2 r}{E}\\right) + H \\sin{\\left(\\theta \\right)} + K \\cos{\\left(\\theta \\right)}$"
      ],
      "text/plain": [
       "A*(-nu/(E*r) - 1/(E*r)) + B*(-2*nu*r*log(r)/E - nu*r/E + 2*r*log(r)/E - r/E) + C*(-2*nu*r/E + 2*r/E) + H*sin(theta) + K*cos(theta)"
      ]
     },
     "execution_count": 49,
     "metadata": {},
     "output_type": "execute_result"
    }
   ],
   "source": [
    "u_semi = u_interim.subs(f1(-theta),ft)\n",
    "u_semi"
   ]
  },
  {
   "cell_type": "markdown",
   "metadata": {},
   "source": [
    "And, the expression of $v(r,\\theta)$ becomes:"
   ]
  },
  {
   "cell_type": "code",
   "execution_count": 51,
   "metadata": {},
   "outputs": [
    {
     "data": {
      "text/latex": [
       "$\\displaystyle \\frac{4 B r \\theta}{E} + F r + H \\cos{\\left(\\theta \\right)} - K \\sin{\\left(\\theta \\right)}$"
      ],
      "text/plain": [
       "4*B*r*theta/E + F*r + H*cos(theta) - K*sin(theta)"
      ]
     },
     "execution_count": 51,
     "metadata": {},
     "output_type": "execute_result"
    }
   ],
   "source": [
    "v_semi = 4*B*r*theta/E + fr - sp.integrate(ft,theta)\n",
    "v_semi"
   ]
  },
  {
   "cell_type": "markdown",
   "metadata": {},
   "source": [
    "Finally, the values of $F$, $H$, and $K$ are determined by using the following displacement boundary conditions:\n",
    "\n",
    "\\begin{align*}\n",
    "u &= 0 \\quad \\text{at $r=r_0$}, \\\\ \n",
    "v &= 0 \\quad \\text{at $r=r_0$}, \\\\\n",
    "\\frac{\\partial v}{\\partial r} &= 0 \\quad \\text{at $r=r_0$ and $\\theta=0$},\n",
    "\\end{align*}\n",
    "where $\\displaystyle r_0 = \\frac{a+b}{2}$."
   ]
  },
  {
   "cell_type": "code",
   "execution_count": 22,
   "metadata": {},
   "outputs": [
    {
     "data": {
      "text/latex": [
       "$\\displaystyle A \\left(- \\frac{\\nu}{E r_{0}} - \\frac{1}{E r_{0}}\\right) + B \\left(- \\frac{2 \\nu r_{0} \\log{\\left(r_{0} \\right)}}{E} - \\frac{\\nu r_{0}}{E} + \\frac{2 r_{0} \\log{\\left(r_{0} \\right)}}{E} - \\frac{r_{0}}{E}\\right) + C \\left(- \\frac{2 \\nu r_{0}}{E} + \\frac{2 r_{0}}{E}\\right) + K = 0$"
      ],
      "text/plain": [
       "Eq(A*(-nu/(E*r_0) - 1/(E*r_0)) + B*(-2*nu*r_0*log(r_0)/E - nu*r_0/E + 2*r_0*log(r_0)/E - r_0/E) + C*(-2*nu*r_0/E + 2*r_0/E) + K, 0)"
      ]
     },
     "metadata": {},
     "output_type": "display_data"
    },
    {
     "data": {
      "text/latex": [
       "$\\displaystyle F r_{0} + H = 0$"
      ],
      "text/plain": [
       "Eq(F*r_0 + H, 0)"
      ]
     },
     "metadata": {},
     "output_type": "display_data"
    },
    {
     "data": {
      "text/latex": [
       "$\\displaystyle F = 0$"
      ],
      "text/plain": [
       "Eq(F, 0)"
      ]
     },
     "metadata": {},
     "output_type": "display_data"
    }
   ],
   "source": [
    "r0 = sp.symbols('r_0')\n",
    "\n",
    "lhs = u_semi.subs([(theta,0),(r,r0)])\n",
    "rhs = 0\n",
    "eq1 = sp.Eq(lhs,rhs)\n",
    "\n",
    "lhs = v_semi.subs([(theta,0),(r,r0)])\n",
    "rhs = 0\n",
    "eq2 = sp.Eq(lhs,rhs)\n",
    "\n",
    "\n",
    "lhs = sp.diff(v_semi,r).subs([(theta,0),(r,r0)])\n",
    "rhs = 0\n",
    "eq3 = sp.Eq(lhs,rhs)\n",
    "\n",
    "display(eq1,eq2,eq3)"
   ]
  },
  {
   "cell_type": "code",
   "execution_count": 23,
   "metadata": {},
   "outputs": [
    {
     "data": {
      "text/latex": [
       "$\\displaystyle 0$"
      ],
      "text/plain": [
       "0"
      ]
     },
     "metadata": {},
     "output_type": "display_data"
    },
    {
     "data": {
      "text/latex": [
       "$\\displaystyle 0$"
      ],
      "text/plain": [
       "0"
      ]
     },
     "metadata": {},
     "output_type": "display_data"
    },
    {
     "data": {
      "text/latex": [
       "$\\displaystyle \\frac{A \\left(\\nu + 1\\right) + r_{0}^{2} \\left(2 B \\nu \\log{\\left(r_{0} \\right)} + B \\nu - 2 B \\log{\\left(r_{0} \\right)} + B + 2 C \\nu - 2 C\\right)}{E r_{0}}$"
      ],
      "text/plain": [
       "(A*(nu + 1) + r_0**2*(2*B*nu*log(r_0) + B*nu - 2*B*log(r_0) + B + 2*C*nu - 2*C))/(E*r_0)"
      ]
     },
     "metadata": {},
     "output_type": "display_data"
    }
   ],
   "source": [
    "soln, = sp.linsolve([eq1,eq2,eq3],(F,H,K))\n",
    "\n",
    "Fvalue = soln[0]\n",
    "Hvalue = soln[1]\n",
    "Kvalue = soln[2]\n",
    "display(Fvalue,Hvalue,Kvalue)"
   ]
  },
  {
   "cell_type": "markdown",
   "metadata": {},
   "source": [
    "In the above solution, $\\displaystyle r_0 = \\frac{a+b}{2}$."
   ]
  }
 ],
 "metadata": {
  "hide_input": false,
  "kernelspec": {
   "display_name": "Python 3",
   "language": "python",
   "name": "python3"
  },
  "language_info": {
   "codemirror_mode": {
    "name": "ipython",
    "version": 3
   },
   "file_extension": ".py",
   "mimetype": "text/x-python",
   "name": "python",
   "nbconvert_exporter": "python",
   "pygments_lexer": "ipython3",
   "version": "3.8.3"
  },
  "varInspector": {
   "cols": {
    "lenName": 16,
    "lenType": 16,
    "lenVar": 40
   },
   "kernels_config": {
    "python": {
     "delete_cmd_postfix": "",
     "delete_cmd_prefix": "del ",
     "library": "var_list.py",
     "varRefreshCmd": "print(var_dic_list())"
    },
    "r": {
     "delete_cmd_postfix": ") ",
     "delete_cmd_prefix": "rm(",
     "library": "var_list.r",
     "varRefreshCmd": "cat(var_dic_list()) "
    }
   },
   "types_to_exclude": [
    "module",
    "function",
    "builtin_function_or_method",
    "instance",
    "_Feature"
   ],
   "window_display": false
  }
 },
 "nbformat": 4,
 "nbformat_minor": 2
}
